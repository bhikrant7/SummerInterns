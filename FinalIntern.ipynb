{
 "cells": [
  {
   "cell_type": "code",
   "execution_count": 19,
   "id": "b65615cf-d5d9-435f-9ad8-b4daf54f616e",
   "metadata": {},
   "outputs": [],
   "source": [
    "import pandas as pd\n",
    "from sklearn.preprocessing import OneHotEncoder, StandardScaler\n",
    "from sklearn.model_selection import train_test_split\n",
    "import numpy as np\n",
    "import random\n",
    "import tensorflow as tf\n",
    "import pickle\n",
    "\n",
    "# Set random seed for reproducibility\n",
    "random.seed(42)\n",
    "np.random.seed(42)\n",
    "tf.random.set_seed(42)\n",
    "\n",
    "# Load the data\n",
    "file_path = '/home/bhikrant07/Desktop/AI/KU_STUDENT_DATA_ON_CAMPUS_PLACEMENT.csv'\n",
    "data = pd.read_csv(file_path)"
   ]
  },
  {
   "cell_type": "markdown",
   "id": "d39f719a-8a6d-4df6-b67f-a2961d0adcc7",
   "metadata": {},
   "source": [
    "## Preprocess the data\n",
    "1. Standardization for numerical features\n",
    "2. One hot encoding for categorical features"
   ]
  },
  {
   "cell_type": "code",
   "execution_count": 20,
   "id": "5f094a76-e5ea-4792-b4ad-b1e36d93c145",
   "metadata": {},
   "outputs": [],
   "source": [
    "data = data.apply(lambda x: x.str.lower() if x.dtype == \"object\" else x)\n",
    "\n",
    "categorical_features = data.select_dtypes(include=['object']).columns.tolist()\n",
    "encoder = OneHotEncoder(sparse_output=False, drop='first')\n",
    "encoded_categorical_data = encoder.fit_transform(data[categorical_features])\n",
    "\n",
    "numerical_features = data.select_dtypes(include=['float64', 'int64']).columns.tolist()\n",
    "scaler = StandardScaler()\n",
    "scaled_numerical_data = scaler.fit_transform(data[numerical_features])\n",
    "\n",
    "encoded_categorical_df = pd.DataFrame(encoded_categorical_data, columns=encoder.get_feature_names_out(categorical_features))\n",
    "scaled_numerical_df = pd.DataFrame(scaled_numerical_data, columns=numerical_features)\n",
    "processed_data = pd.concat([encoded_categorical_df, scaled_numerical_df], axis=1)"
   ]
  },
  {
   "cell_type": "markdown",
   "id": "79c56eca-d5b3-4673-b3c8-96d76b9291a4",
   "metadata": {},
   "source": [
    "## Extracting the target variable"
   ]
  },
  {
   "cell_type": "code",
   "execution_count": 21,
   "id": "39a1499a-685d-4108-bc32-233515ab4b73",
   "metadata": {},
   "outputs": [],
   "source": [
    "X_cgpa = processed_data.drop(['CGPA after 8th semester'], axis=1)\n",
    "y_cgpa = processed_data['CGPA after 8th semester']\n",
    "\n",
    "X_placement = processed_data.drop(['Cam_plc_yes'], axis=1)\n",
    "y_placement = processed_data['Cam_plc_yes']"
   ]
  },
  {
   "cell_type": "markdown",
   "id": "fe4beed4-f62d-4fef-9056-c63780579ab3",
   "metadata": {},
   "source": [
    "## Train_test_split & data reshaping for LSTM"
   ]
  },
  {
   "cell_type": "code",
   "execution_count": 22,
   "id": "cdab43a1-fe29-408e-9b91-95dd24127cff",
   "metadata": {},
   "outputs": [],
   "source": [
    "X_train_cgpa, X_test_cgpa, y_train_cgpa, y_test_cgpa = train_test_split(X_cgpa, y_cgpa, test_size=0.2, random_state=42)\n",
    "X_train_placement, X_test_placement, y_train_placement, y_test_placement = train_test_split(X_placement, y_placement, test_size=0.2, random_state=42)\n",
    "\n",
    "# Reshape data for LSTM\n",
    "X_train_cgpa_reshaped = np.reshape(X_train_cgpa.values, (X_train_cgpa.shape[0], X_train_cgpa.shape[1], 1))\n",
    "X_test_cgpa_reshaped = np.reshape(X_test_cgpa.values, (X_test_cgpa.shape[0], X_test_cgpa.shape[1], 1))\n",
    "X_train_placement_reshaped = np.reshape(X_train_placement.values, (X_train_placement.shape[0], X_train_placement.shape[1], 1))\n",
    "X_test_placement_reshaped = np.reshape(X_test_placement.values, (X_test_placement.shape[0], X_test_placement.shape[1], 1))"
   ]
  },
  {
   "cell_type": "code",
   "execution_count": 56,
   "id": "d45cbdfa-2f9b-4c6e-96c7-6dfd115c5b83",
   "metadata": {},
   "outputs": [
    {
     "name": "stderr",
     "output_type": "stream",
     "text": [
      "/home/bhikrant07/anaconda3/lib/python3.11/site-packages/deap/creator.py:185: RuntimeWarning: A class named 'FitnessMin' has already been created and it will be overwritten. Consider deleting previous creation of that class or rename it.\n",
      "  warnings.warn(\"A class named '{0}' has already been created and it \"\n",
      "/home/bhikrant07/anaconda3/lib/python3.11/site-packages/deap/creator.py:185: RuntimeWarning: A class named 'Individual' has already been created and it will be overwritten. Consider deleting previous creation of that class or rename it.\n",
      "  warnings.warn(\"A class named '{0}' has already been created and it \"\n"
     ]
    }
   ],
   "source": [
    "from deap import base, creator, tools, algorithms\n",
    "from keras.optimizers import Adam, RMSprop, SGD, Adadelta\n",
    "from tensorflow.keras.models import Sequential\n",
    "from tensorflow.keras.layers import LSTM, Dense, Dropout, BatchNormalization, Bidirectional\n",
    "from tensorflow.keras.regularizers import l2\n",
    "\n",
    "\n",
    "creator.create(\"FitnessMin\", base.Fitness, weights=(-1.0,))\n",
    "creator.create(\"Individual\", list, fitness=creator.FitnessMin)"
   ]
  },
  {
   "cell_type": "markdown",
   "id": "fe4c3dc8-043c-4e64-9ecd-77edd25b8e22",
   "metadata": {},
   "source": [
    "## Functions for LSTM models of placement and cgpa "
   ]
  },
  {
   "cell_type": "code",
   "execution_count": 55,
   "id": "56260e4c-c220-41bd-b868-8ce6922a36fb",
   "metadata": {},
   "outputs": [],
   "source": [
    "def create_cgpa_model(units, activation, dropout, optimizer, learning_rate, dropout_rate=0.2, l2_penalty=0.001):\n",
    "    model = Sequential()\n",
    "    model.add(LSTM(units=units, activation=activation, input_shape=(X_train_cgpa_reshaped.shape[1], 1)))\n",
    "    model.add(Dropout(dropout))\n",
    "    model.add(Dense(1, activation='linear', kernel_regularizer=l2(l2_penalty)))\n",
    "    \n",
    "    if optimizer == 'adam':\n",
    "        opt = Adam(learning_rate=learning_rate)\n",
    "    elif optimizer == 'rmsprop':\n",
    "        opt = RMSprop(learning_rate=learning_rate)\n",
    "    elif optimizer == 'sgd':\n",
    "        opt = SGD(learning_rate=learning_rate)\n",
    "    elif optimizer == 'adadelta':\n",
    "        opt = Adadelta(learning_rate=learning_rate)\n",
    "    \n",
    "    model.compile(loss='mean_squared_error', optimizer=opt, metrics=['mse'])\n",
    "    return model\n",
    "\n",
    "def create_placement_model(units, activation, dropout, optimizer, learning_rate, dropout_rate=0.5, l2_penalty=0.01):# changed l2, dropout_rate :0.2\n",
    "    model = Sequential()\n",
    "    model.add(Bidirectional(LSTM(units=units, activation=activation, input_shape=(X_train_placement_reshaped.shape[1], 1))))\n",
    "    model.add(Dropout(dropout))\n",
    "    model.add(BatchNormalization())\n",
    "    model.add(Dense(1, activation='sigmoid', kernel_regularizer=l2(l2_penalty)))\n",
    "    \n",
    "    if optimizer == 'adam':\n",
    "        opt = Adam(learning_rate=learning_rate)\n",
    "    elif optimizer == 'rmsprop':\n",
    "        opt = RMSprop(learning_rate=learning_rate)\n",
    "    elif optimizer == 'sgd':\n",
    "        opt = SGD(learning_rate=learning_rate)\n",
    "    elif optimizer == 'adadelta':\n",
    "        opt = Adadelta(learning_rate=learning_rate)\n",
    "    \n",
    "    model.compile(loss='binary_crossentropy', optimizer=opt, metrics=['accuracy'])\n",
    "    return model"
   ]
  },
  {
   "cell_type": "markdown",
   "id": "e10b7dc3-c08c-421a-8284-d7cb6ecc41f7",
   "metadata": {},
   "source": [
    "## Define the fitness function"
   ]
  },
  {
   "cell_type": "code",
   "execution_count": 6,
   "id": "f1416ad6-e796-4055-ad1c-0f03e8b75299",
   "metadata": {},
   "outputs": [],
   "source": [
    "def evaluate_cgpa_model(individual):\n",
    "    units = individual[0]\n",
    "    activation = individual[1]\n",
    "    dropout = individual[2]\n",
    "    optimizer = individual[3]\n",
    "    learning_rate = individual[4]\n",
    "    \n",
    "    model = create_cgpa_model(units, activation, dropout, optimizer, learning_rate)\n",
    "    model.fit(X_train_cgpa_reshaped, y_train_cgpa, epochs=10, verbose=0)\n",
    "    loss, mse = model.evaluate(X_test_cgpa_reshaped, y_test_cgpa, verbose=0)\n",
    "    return mse,\n",
    "\n",
    "def evaluate_placement_model(individual):\n",
    "    units = individual[0]\n",
    "    activation = individual[1]\n",
    "    dropout = individual[2]\n",
    "    optimizer = individual[3]\n",
    "    learning_rate = individual[4]\n",
    "    \n",
    "    model = create_placement_model(units, activation, dropout, optimizer, learning_rate)\n",
    "    model.fit(X_train_placement_reshaped, y_train_placement, epochs=10, verbose=0)\n",
    "    loss, acc = model.evaluate(X_test_placement_reshaped, y_test_placement, verbose=0)\n",
    "    return 1 - acc,"
   ]
  },
  {
   "cell_type": "markdown",
   "id": "9e2f0640-ea82-4359-b321-4e160ca74fa4",
   "metadata": {},
   "source": [
    "## Register GA Components"
   ]
  },
  {
   "cell_type": "code",
   "execution_count": 7,
   "id": "34f2d158-8f4f-43e1-8e27-00b2f737b843",
   "metadata": {},
   "outputs": [],
   "source": [
    "toolbox = base.Toolbox()\n",
    "toolbox.register(\"attr_units\", random.randint, 50, 200)\n",
    "toolbox.register(\"attr_activation\", random.choice, ['relu', 'tanh', 'sigmoid'])\n",
    "toolbox.register(\"attr_dropout\", random.uniform, 0.0, 0.5)\n",
    "toolbox.register(\"attr_optimizer\", random.choice, ['adam', 'rmsprop', 'sgd', 'adadelta'])\n",
    "toolbox.register(\"attr_learning_rate\", random.uniform, 1e-4, 1e-2)\n",
    "\n",
    "toolbox.register(\"individual\", tools.initCycle, creator.Individual,\n",
    "                 (toolbox.attr_units, toolbox.attr_activation, toolbox.attr_dropout,\n",
    "                  toolbox.attr_optimizer, toolbox.attr_learning_rate), n=1)\n",
    "toolbox.register(\"population\", tools.initRepeat, list, toolbox.individual)\n",
    "\n",
    "toolbox.register(\"mate\", tools.cxTwoPoint)"
   ]
  },
  {
   "cell_type": "code",
   "execution_count": null,
   "id": "dc39d187-2d56-4c4a-9b95-ba3766ca95b8",
   "metadata": {},
   "outputs": [],
   "source": [
    "# Custom mutation function to ensure dropout rate remains within valid range\n",
    "def custom_mutate(individual):\n",
    "    individual[0] = random.randint(50, 200) if random.random() < 0.2 else individual[0]\n",
    "    individual[1] = random.choice(['relu', 'tanh', 'sigmoid']) if random.random() < 0.2 else individual[1]\n",
    "    individual[2] = max(0.0, min(1.0, individual[2] + random.gauss(0, 0.1))) if random.random() < 0.2 else individual[2]\n",
    "    individual[3] = random.choice(['adam', 'rmsprop', 'sgd', 'adadelta']) if random.random() < 0.2 else individual[3]\n",
    "    individual[4] = max(1e-4, min(1e-2, individual[4] + random.gauss(0, 0.001))) if random.random() < 0.2 else individual[4]\n",
    "    return individual,\n",
    "\n",
    "toolbox.register(\"mutate\", custom_mutate)\n",
    "toolbox.register(\"select\", tools.selTournament, tournsize=3)\n",
    "toolbox.register(\"evaluate\", evaluate_cgpa_model)"
   ]
  },
  {
   "cell_type": "markdown",
   "id": "5688c480-5ba0-4e59-b3d3-a30c829b71a6",
   "metadata": {},
   "source": [
    "### Run the Genetic Algorithm for CGPA Model"
   ]
  },
  {
   "cell_type": "code",
   "execution_count": null,
   "id": "6e6f6b51-5160-438a-9d4c-77c78e4a42ff",
   "metadata": {},
   "outputs": [],
   "source": [
    "population = toolbox.population(n=10)\n",
    "ngen = 10\n",
    "cxpb = 0.5\n",
    "mutpb = 0.2\n",
    "\n",
    "result_cgpa, logbook = algorithms.eaSimple(population, toolbox, cxpb=cxpb, mutpb=mutpb, ngen=ngen, verbose=True)\n",
    "\n",
    "best_individual_cgpa = tools.selBest(population, 1)[0]\n",
    "print(f'Best CGPA Model Hyperparameters: {best_individual_cgpa}')\n",
    "\n",
    "# Save best hyperparameters for CGPA model\n",
    "with open('best_hyperparameters_cgpa.pkl', 'wb') as f:\n",
    "    pickle.dump(best_individual_cgpa, f)"
   ]
  },
  {
   "cell_type": "markdown",
   "id": "8af74e7c-8cc7-4dee-9962-fe02a43d3497",
   "metadata": {},
   "source": [
    "### Run the Genetic Algorithm for Placement Model"
   ]
  },
  {
   "cell_type": "code",
   "execution_count": null,
   "id": "131369cd-dd34-4e1f-bb54-c6bd7cbf6155",
   "metadata": {},
   "outputs": [],
   "source": [
    "toolbox.unregister(\"evaluate\")\n",
    "toolbox.register(\"evaluate\", evaluate_placement_model)\n",
    "\n",
    "population = toolbox.population(n=10)\n",
    "result_placement, logbook = algorithms.eaSimple(population, toolbox, cxpb=cxpb, mutpb=mutpb, ngen=ngen, verbose=True)\n",
    "\n",
    "best_individual_placement = tools.selBest(population, 1)[0]\n",
    "print(f'Best Placement Model Hyperparameters: {best_individual_placement}')\n",
    "\n",
    "# Save best hyperparameters for Placement model\n",
    "with open('best_hyperparameters_placement.pkl', 'wb') as f:\n",
    "    pickle.dump(best_individual_placement, f)"
   ]
  },
  {
   "cell_type": "code",
   "execution_count": 25,
   "id": "ecc0aaff-1045-4624-a6e9-a632376763dd",
   "metadata": {},
   "outputs": [],
   "source": [
    "from tensorflow.keras.callbacks import EarlyStopping"
   ]
  },
  {
   "cell_type": "markdown",
   "id": "4665428a-435c-408f-81e3-19964f7f12b0",
   "metadata": {},
   "source": [
    "## Train the CGPA model with the best hyperparameters"
   ]
  },
  {
   "cell_type": "code",
   "execution_count": 26,
   "id": "b7eab855-1175-436d-98c0-07d1cff3f723",
   "metadata": {},
   "outputs": [
    {
     "name": "stdout",
     "output_type": "stream",
     "text": [
      "Epoch 1/100\n",
      "\u001b[1m10/10\u001b[0m \u001b[32m━━━━━━━━━━━━━━━━━━━━\u001b[0m\u001b[37m\u001b[0m \u001b[1m1s\u001b[0m 32ms/step - loss: 0.8775 - mse: 0.8757 - val_loss: 0.7778 - val_mse: 0.7762\n",
      "Epoch 2/100\n",
      "\u001b[1m10/10\u001b[0m \u001b[32m━━━━━━━━━━━━━━━━━━━━\u001b[0m\u001b[37m\u001b[0m \u001b[1m0s\u001b[0m 23ms/step - loss: 0.6962 - mse: 0.6946 - val_loss: 4.0564 - val_mse: 4.0549\n",
      "Epoch 3/100\n",
      "\u001b[1m10/10\u001b[0m \u001b[32m━━━━━━━━━━━━━━━━━━━━\u001b[0m\u001b[37m\u001b[0m \u001b[1m0s\u001b[0m 30ms/step - loss: 1.4612 - mse: 1.4598 - val_loss: 0.9607 - val_mse: 0.9595\n",
      "Epoch 4/100\n",
      "\u001b[1m10/10\u001b[0m \u001b[32m━━━━━━━━━━━━━━━━━━━━\u001b[0m\u001b[37m\u001b[0m \u001b[1m0s\u001b[0m 22ms/step - loss: 0.8024 - mse: 0.8012 - val_loss: 0.9073 - val_mse: 0.9061\n",
      "Epoch 5/100\n",
      "\u001b[1m10/10\u001b[0m \u001b[32m━━━━━━━━━━━━━━━━━━━━\u001b[0m\u001b[37m\u001b[0m \u001b[1m0s\u001b[0m 22ms/step - loss: 0.6857 - mse: 0.6845 - val_loss: 0.4045 - val_mse: 0.4032\n",
      "Epoch 6/100\n",
      "\u001b[1m10/10\u001b[0m \u001b[32m━━━━━━━━━━━━━━━━━━━━\u001b[0m\u001b[37m\u001b[0m \u001b[1m0s\u001b[0m 25ms/step - loss: 0.4882 - mse: 0.4869 - val_loss: 0.1710 - val_mse: 0.1696\n",
      "Epoch 7/100\n",
      "\u001b[1m10/10\u001b[0m \u001b[32m━━━━━━━━━━━━━━━━━━━━\u001b[0m\u001b[37m\u001b[0m \u001b[1m0s\u001b[0m 30ms/step - loss: 0.3551 - mse: 0.3538 - val_loss: 0.1473 - val_mse: 0.1459\n",
      "Epoch 8/100\n",
      "\u001b[1m10/10\u001b[0m \u001b[32m━━━━━━━━━━━━━━━━━━━━\u001b[0m\u001b[37m\u001b[0m \u001b[1m0s\u001b[0m 28ms/step - loss: 0.3173 - mse: 0.3159 - val_loss: 0.1460 - val_mse: 0.1446\n",
      "Epoch 9/100\n",
      "\u001b[1m10/10\u001b[0m \u001b[32m━━━━━━━━━━━━━━━━━━━━\u001b[0m\u001b[37m\u001b[0m \u001b[1m0s\u001b[0m 23ms/step - loss: 0.2724 - mse: 0.2710 - val_loss: 0.1014 - val_mse: 0.1000\n",
      "Epoch 10/100\n",
      "\u001b[1m10/10\u001b[0m \u001b[32m━━━━━━━━━━━━━━━━━━━━\u001b[0m\u001b[37m\u001b[0m \u001b[1m0s\u001b[0m 29ms/step - loss: 0.2662 - mse: 0.2648 - val_loss: 0.1049 - val_mse: 0.1035\n",
      "Epoch 11/100\n",
      "\u001b[1m10/10\u001b[0m \u001b[32m━━━━━━━━━━━━━━━━━━━━\u001b[0m\u001b[37m\u001b[0m \u001b[1m0s\u001b[0m 21ms/step - loss: 0.2616 - mse: 0.2603 - val_loss: 0.1380 - val_mse: 0.1367\n",
      "Epoch 12/100\n",
      "\u001b[1m10/10\u001b[0m \u001b[32m━━━━━━━━━━━━━━━━━━━━\u001b[0m\u001b[37m\u001b[0m \u001b[1m0s\u001b[0m 26ms/step - loss: 0.2418 - mse: 0.2405 - val_loss: 0.1292 - val_mse: 0.1279\n",
      "Epoch 13/100\n",
      "\u001b[1m10/10\u001b[0m \u001b[32m━━━━━━━━━━━━━━━━━━━━\u001b[0m\u001b[37m\u001b[0m \u001b[1m0s\u001b[0m 27ms/step - loss: 0.2278 - mse: 0.2265 - val_loss: 0.1047 - val_mse: 0.1034\n",
      "Epoch 14/100\n",
      "\u001b[1m10/10\u001b[0m \u001b[32m━━━━━━━━━━━━━━━━━━━━\u001b[0m\u001b[37m\u001b[0m \u001b[1m0s\u001b[0m 19ms/step - loss: 0.2029 - mse: 0.2016 - val_loss: 0.1044 - val_mse: 0.1032\n",
      "Epoch 15/100\n",
      "\u001b[1m10/10\u001b[0m \u001b[32m━━━━━━━━━━━━━━━━━━━━\u001b[0m\u001b[37m\u001b[0m \u001b[1m0s\u001b[0m 22ms/step - loss: 0.2116 - mse: 0.2103 - val_loss: 0.0788 - val_mse: 0.0776\n",
      "Epoch 16/100\n",
      "\u001b[1m10/10\u001b[0m \u001b[32m━━━━━━━━━━━━━━━━━━━━\u001b[0m\u001b[37m\u001b[0m \u001b[1m0s\u001b[0m 16ms/step - loss: 0.1997 - mse: 0.1984 - val_loss: 0.0901 - val_mse: 0.0888\n",
      "Epoch 17/100\n",
      "\u001b[1m10/10\u001b[0m \u001b[32m━━━━━━━━━━━━━━━━━━━━\u001b[0m\u001b[37m\u001b[0m \u001b[1m0s\u001b[0m 20ms/step - loss: 0.2247 - mse: 0.2234 - val_loss: 0.1095 - val_mse: 0.1082\n",
      "Epoch 18/100\n",
      "\u001b[1m10/10\u001b[0m \u001b[32m━━━━━━━━━━━━━━━━━━━━\u001b[0m\u001b[37m\u001b[0m \u001b[1m0s\u001b[0m 29ms/step - loss: 0.2373 - mse: 0.2360 - val_loss: 0.1679 - val_mse: 0.1666\n",
      "Epoch 19/100\n",
      "\u001b[1m10/10\u001b[0m \u001b[32m━━━━━━━━━━━━━━━━━━━━\u001b[0m\u001b[37m\u001b[0m \u001b[1m0s\u001b[0m 32ms/step - loss: 0.2676 - mse: 0.2663 - val_loss: 0.0867 - val_mse: 0.0854\n",
      "Epoch 20/100\n",
      "\u001b[1m10/10\u001b[0m \u001b[32m━━━━━━━━━━━━━━━━━━━━\u001b[0m\u001b[37m\u001b[0m \u001b[1m0s\u001b[0m 22ms/step - loss: 0.2421 - mse: 0.2408 - val_loss: 0.6886 - val_mse: 0.6874\n",
      "Epoch 21/100\n",
      "\u001b[1m10/10\u001b[0m \u001b[32m━━━━━━━━━━━━━━━━━━━━\u001b[0m\u001b[37m\u001b[0m \u001b[1m0s\u001b[0m 18ms/step - loss: 0.3642 - mse: 0.3630 - val_loss: 0.0818 - val_mse: 0.0804\n",
      "Epoch 22/100\n",
      "\u001b[1m10/10\u001b[0m \u001b[32m━━━━━━━━━━━━━━━━━━━━\u001b[0m\u001b[37m\u001b[0m \u001b[1m0s\u001b[0m 23ms/step - loss: 0.2050 - mse: 0.2036 - val_loss: 0.1236 - val_mse: 0.1221\n",
      "Epoch 23/100\n",
      "\u001b[1m10/10\u001b[0m \u001b[32m━━━━━━━━━━━━━━━━━━━━\u001b[0m\u001b[37m\u001b[0m \u001b[1m0s\u001b[0m 26ms/step - loss: 0.2141 - mse: 0.2126 - val_loss: 0.1044 - val_mse: 0.1030\n",
      "Epoch 24/100\n",
      "\u001b[1m10/10\u001b[0m \u001b[32m━━━━━━━━━━━━━━━━━━━━\u001b[0m\u001b[37m\u001b[0m \u001b[1m0s\u001b[0m 17ms/step - loss: 0.1701 - mse: 0.1686 - val_loss: 0.0696 - val_mse: 0.0682\n",
      "Epoch 25/100\n",
      "\u001b[1m10/10\u001b[0m \u001b[32m━━━━━━━━━━━━━━━━━━━━\u001b[0m\u001b[37m\u001b[0m \u001b[1m0s\u001b[0m 28ms/step - loss: 0.1719 - mse: 0.1704 - val_loss: 0.1154 - val_mse: 0.1139\n",
      "Epoch 26/100\n",
      "\u001b[1m10/10\u001b[0m \u001b[32m━━━━━━━━━━━━━━━━━━━━\u001b[0m\u001b[37m\u001b[0m \u001b[1m0s\u001b[0m 20ms/step - loss: 0.1726 - mse: 0.1712 - val_loss: 0.0562 - val_mse: 0.0547\n",
      "Epoch 27/100\n",
      "\u001b[1m10/10\u001b[0m \u001b[32m━━━━━━━━━━━━━━━━━━━━\u001b[0m\u001b[37m\u001b[0m \u001b[1m0s\u001b[0m 20ms/step - loss: 0.1468 - mse: 0.1453 - val_loss: 0.0596 - val_mse: 0.0582\n",
      "Epoch 28/100\n",
      "\u001b[1m10/10\u001b[0m \u001b[32m━━━━━━━━━━━━━━━━━━━━\u001b[0m\u001b[37m\u001b[0m \u001b[1m0s\u001b[0m 23ms/step - loss: 0.1360 - mse: 0.1346 - val_loss: 0.0634 - val_mse: 0.0620\n",
      "Epoch 29/100\n",
      "\u001b[1m10/10\u001b[0m \u001b[32m━━━━━━━━━━━━━━━━━━━━\u001b[0m\u001b[37m\u001b[0m \u001b[1m0s\u001b[0m 18ms/step - loss: 0.1355 - mse: 0.1341 - val_loss: 0.0767 - val_mse: 0.0753\n",
      "Epoch 30/100\n",
      "\u001b[1m10/10\u001b[0m \u001b[32m━━━━━━━━━━━━━━━━━━━━\u001b[0m\u001b[37m\u001b[0m \u001b[1m0s\u001b[0m 16ms/step - loss: 0.1147 - mse: 0.1133 - val_loss: 0.0791 - val_mse: 0.0777\n",
      "Epoch 31/100\n",
      "\u001b[1m10/10\u001b[0m \u001b[32m━━━━━━━━━━━━━━━━━━━━\u001b[0m\u001b[37m\u001b[0m \u001b[1m0s\u001b[0m 15ms/step - loss: 0.1316 - mse: 0.1302 - val_loss: 0.0414 - val_mse: 0.0400\n",
      "Epoch 32/100\n",
      "\u001b[1m10/10\u001b[0m \u001b[32m━━━━━━━━━━━━━━━━━━━━\u001b[0m\u001b[37m\u001b[0m \u001b[1m0s\u001b[0m 21ms/step - loss: 0.1068 - mse: 0.1053 - val_loss: 0.0290 - val_mse: 0.0276\n",
      "Epoch 33/100\n",
      "\u001b[1m10/10\u001b[0m \u001b[32m━━━━━━━━━━━━━━━━━━━━\u001b[0m\u001b[37m\u001b[0m \u001b[1m0s\u001b[0m 22ms/step - loss: 0.1023 - mse: 0.1009 - val_loss: 0.0429 - val_mse: 0.0416\n",
      "Epoch 34/100\n",
      "\u001b[1m10/10\u001b[0m \u001b[32m━━━━━━━━━━━━━━━━━━━━\u001b[0m\u001b[37m\u001b[0m \u001b[1m0s\u001b[0m 26ms/step - loss: 0.0916 - mse: 0.0903 - val_loss: 0.0396 - val_mse: 0.0382\n",
      "Epoch 35/100\n",
      "\u001b[1m10/10\u001b[0m \u001b[32m━━━━━━━━━━━━━━━━━━━━\u001b[0m\u001b[37m\u001b[0m \u001b[1m0s\u001b[0m 25ms/step - loss: 0.0916 - mse: 0.0902 - val_loss: 0.0621 - val_mse: 0.0607\n",
      "Epoch 36/100\n",
      "\u001b[1m10/10\u001b[0m \u001b[32m━━━━━━━━━━━━━━━━━━━━\u001b[0m\u001b[37m\u001b[0m \u001b[1m0s\u001b[0m 20ms/step - loss: 0.0981 - mse: 0.0967 - val_loss: 0.0566 - val_mse: 0.0551\n",
      "Epoch 37/100\n",
      "\u001b[1m10/10\u001b[0m \u001b[32m━━━━━━━━━━━━━━━━━━━━\u001b[0m\u001b[37m\u001b[0m \u001b[1m0s\u001b[0m 21ms/step - loss: 0.0842 - mse: 0.0828 - val_loss: 0.0424 - val_mse: 0.0409\n",
      "Epoch 38/100\n",
      "\u001b[1m10/10\u001b[0m \u001b[32m━━━━━━━━━━━━━━━━━━━━\u001b[0m\u001b[37m\u001b[0m \u001b[1m0s\u001b[0m 19ms/step - loss: 0.1266 - mse: 0.1251 - val_loss: 0.0598 - val_mse: 0.0583\n",
      "Epoch 39/100\n",
      "\u001b[1m10/10\u001b[0m \u001b[32m━━━━━━━━━━━━━━━━━━━━\u001b[0m\u001b[37m\u001b[0m \u001b[1m0s\u001b[0m 26ms/step - loss: 0.0772 - mse: 0.0757 - val_loss: 0.0412 - val_mse: 0.0396\n",
      "Epoch 40/100\n",
      "\u001b[1m10/10\u001b[0m \u001b[32m━━━━━━━━━━━━━━━━━━━━\u001b[0m\u001b[37m\u001b[0m \u001b[1m0s\u001b[0m 28ms/step - loss: 0.0635 - mse: 0.0620 - val_loss: 0.0319 - val_mse: 0.0304\n",
      "Epoch 41/100\n",
      "\u001b[1m10/10\u001b[0m \u001b[32m━━━━━━━━━━━━━━━━━━━━\u001b[0m\u001b[37m\u001b[0m \u001b[1m0s\u001b[0m 22ms/step - loss: 0.0655 - mse: 0.0640 - val_loss: 0.0453 - val_mse: 0.0438\n",
      "Epoch 42/100\n",
      "\u001b[1m10/10\u001b[0m \u001b[32m━━━━━━━━━━━━━━━━━━━━\u001b[0m\u001b[37m\u001b[0m \u001b[1m0s\u001b[0m 30ms/step - loss: 0.0463 - mse: 0.0448 - val_loss: 0.0280 - val_mse: 0.0265\n",
      "Epoch 43/100\n",
      "\u001b[1m10/10\u001b[0m \u001b[32m━━━━━━━━━━━━━━━━━━━━\u001b[0m\u001b[37m\u001b[0m \u001b[1m0s\u001b[0m 22ms/step - loss: 0.0341 - mse: 0.0326 - val_loss: 0.0523 - val_mse: 0.0508\n",
      "Epoch 44/100\n",
      "\u001b[1m10/10\u001b[0m \u001b[32m━━━━━━━━━━━━━━━━━━━━\u001b[0m\u001b[37m\u001b[0m \u001b[1m0s\u001b[0m 21ms/step - loss: 0.0407 - mse: 0.0392 - val_loss: 0.0392 - val_mse: 0.0377\n",
      "Epoch 45/100\n",
      "\u001b[1m10/10\u001b[0m \u001b[32m━━━━━━━━━━━━━━━━━━━━\u001b[0m\u001b[37m\u001b[0m \u001b[1m0s\u001b[0m 22ms/step - loss: 0.0514 - mse: 0.0499 - val_loss: 0.0225 - val_mse: 0.0210\n",
      "Epoch 46/100\n",
      "\u001b[1m10/10\u001b[0m \u001b[32m━━━━━━━━━━━━━━━━━━━━\u001b[0m\u001b[37m\u001b[0m \u001b[1m0s\u001b[0m 24ms/step - loss: 0.0518 - mse: 0.0503 - val_loss: 0.0541 - val_mse: 0.0526\n",
      "Epoch 47/100\n",
      "\u001b[1m10/10\u001b[0m \u001b[32m━━━━━━━━━━━━━━━━━━━━\u001b[0m\u001b[37m\u001b[0m \u001b[1m0s\u001b[0m 26ms/step - loss: 0.0378 - mse: 0.0364 - val_loss: 0.0310 - val_mse: 0.0296\n",
      "Epoch 48/100\n",
      "\u001b[1m10/10\u001b[0m \u001b[32m━━━━━━━━━━━━━━━━━━━━\u001b[0m\u001b[37m\u001b[0m \u001b[1m0s\u001b[0m 19ms/step - loss: 0.0412 - mse: 0.0398 - val_loss: 0.0355 - val_mse: 0.0340\n",
      "Epoch 49/100\n",
      "\u001b[1m10/10\u001b[0m \u001b[32m━━━━━━━━━━━━━━━━━━━━\u001b[0m\u001b[37m\u001b[0m \u001b[1m0s\u001b[0m 21ms/step - loss: 0.0432 - mse: 0.0417 - val_loss: 0.0290 - val_mse: 0.0276\n",
      "Epoch 50/100\n",
      "\u001b[1m10/10\u001b[0m \u001b[32m━━━━━━━━━━━━━━━━━━━━\u001b[0m\u001b[37m\u001b[0m \u001b[1m0s\u001b[0m 21ms/step - loss: 0.0517 - mse: 0.0503 - val_loss: 0.0304 - val_mse: 0.0291\n",
      "Epoch 51/100\n",
      "\u001b[1m10/10\u001b[0m \u001b[32m━━━━━━━━━━━━━━━━━━━━\u001b[0m\u001b[37m\u001b[0m \u001b[1m0s\u001b[0m 28ms/step - loss: 0.0596 - mse: 0.0582 - val_loss: 0.0398 - val_mse: 0.0384\n",
      "Epoch 52/100\n",
      "\u001b[1m10/10\u001b[0m \u001b[32m━━━━━━━━━━━━━━━━━━━━\u001b[0m\u001b[37m\u001b[0m \u001b[1m0s\u001b[0m 18ms/step - loss: 0.0475 - mse: 0.0461 - val_loss: 0.0240 - val_mse: 0.0225\n",
      "Epoch 53/100\n",
      "\u001b[1m10/10\u001b[0m \u001b[32m━━━━━━━━━━━━━━━━━━━━\u001b[0m\u001b[37m\u001b[0m \u001b[1m0s\u001b[0m 28ms/step - loss: 0.0485 - mse: 0.0471 - val_loss: 0.0242 - val_mse: 0.0227\n",
      "Epoch 54/100\n",
      "\u001b[1m10/10\u001b[0m \u001b[32m━━━━━━━━━━━━━━━━━━━━\u001b[0m\u001b[37m\u001b[0m \u001b[1m0s\u001b[0m 24ms/step - loss: 0.0357 - mse: 0.0342 - val_loss: 0.0303 - val_mse: 0.0288\n",
      "Epoch 55/100\n",
      "\u001b[1m10/10\u001b[0m \u001b[32m━━━━━━━━━━━━━━━━━━━━\u001b[0m\u001b[37m\u001b[0m \u001b[1m0s\u001b[0m 25ms/step - loss: 0.0316 - mse: 0.0301 - val_loss: 0.0204 - val_mse: 0.0189\n",
      "Epoch 56/100\n",
      "\u001b[1m10/10\u001b[0m \u001b[32m━━━━━━━━━━━━━━━━━━━━\u001b[0m\u001b[37m\u001b[0m \u001b[1m0s\u001b[0m 24ms/step - loss: 0.0292 - mse: 0.0278 - val_loss: 0.0382 - val_mse: 0.0368\n",
      "Epoch 57/100\n",
      "\u001b[1m10/10\u001b[0m \u001b[32m━━━━━━━━━━━━━━━━━━━━\u001b[0m\u001b[37m\u001b[0m \u001b[1m0s\u001b[0m 24ms/step - loss: 0.0332 - mse: 0.0318 - val_loss: 0.0203 - val_mse: 0.0189\n",
      "Epoch 58/100\n",
      "\u001b[1m10/10\u001b[0m \u001b[32m━━━━━━━━━━━━━━━━━━━━\u001b[0m\u001b[37m\u001b[0m \u001b[1m0s\u001b[0m 21ms/step - loss: 0.0349 - mse: 0.0334 - val_loss: 0.0387 - val_mse: 0.0374\n",
      "Epoch 59/100\n",
      "\u001b[1m10/10\u001b[0m \u001b[32m━━━━━━━━━━━━━━━━━━━━\u001b[0m\u001b[37m\u001b[0m \u001b[1m0s\u001b[0m 19ms/step - loss: 0.0390 - mse: 0.0377 - val_loss: 0.0286 - val_mse: 0.0273\n",
      "Epoch 60/100\n",
      "\u001b[1m10/10\u001b[0m \u001b[32m━━━━━━━━━━━━━━━━━━━━\u001b[0m\u001b[37m\u001b[0m \u001b[1m0s\u001b[0m 22ms/step - loss: 0.0338 - mse: 0.0324 - val_loss: 0.0181 - val_mse: 0.0168\n",
      "Epoch 61/100\n",
      "\u001b[1m10/10\u001b[0m \u001b[32m━━━━━━━━━━━━━━━━━━━━\u001b[0m\u001b[37m\u001b[0m \u001b[1m0s\u001b[0m 26ms/step - loss: 0.0274 - mse: 0.0260 - val_loss: 0.0270 - val_mse: 0.0257\n",
      "Epoch 62/100\n",
      "\u001b[1m10/10\u001b[0m \u001b[32m━━━━━━━━━━━━━━━━━━━━\u001b[0m\u001b[37m\u001b[0m \u001b[1m0s\u001b[0m 19ms/step - loss: 0.0261 - mse: 0.0247 - val_loss: 0.0182 - val_mse: 0.0169\n",
      "Epoch 63/100\n",
      "\u001b[1m10/10\u001b[0m \u001b[32m━━━━━━━━━━━━━━━━━━━━\u001b[0m\u001b[37m\u001b[0m \u001b[1m0s\u001b[0m 18ms/step - loss: 0.0243 - mse: 0.0230 - val_loss: 0.0335 - val_mse: 0.0322\n",
      "Epoch 64/100\n",
      "\u001b[1m10/10\u001b[0m \u001b[32m━━━━━━━━━━━━━━━━━━━━\u001b[0m\u001b[37m\u001b[0m \u001b[1m0s\u001b[0m 17ms/step - loss: 0.0259 - mse: 0.0246 - val_loss: 0.0264 - val_mse: 0.0251\n",
      "Epoch 65/100\n",
      "\u001b[1m10/10\u001b[0m \u001b[32m━━━━━━━━━━━━━━━━━━━━\u001b[0m\u001b[37m\u001b[0m \u001b[1m0s\u001b[0m 18ms/step - loss: 0.0253 - mse: 0.0240 - val_loss: 0.0351 - val_mse: 0.0338\n",
      "Epoch 66/100\n",
      "\u001b[1m10/10\u001b[0m \u001b[32m━━━━━━━━━━━━━━━━━━━━\u001b[0m\u001b[37m\u001b[0m \u001b[1m0s\u001b[0m 23ms/step - loss: 0.0227 - mse: 0.0214 - val_loss: 0.0218 - val_mse: 0.0206\n",
      "Epoch 67/100\n",
      "\u001b[1m10/10\u001b[0m \u001b[32m━━━━━━━━━━━━━━━━━━━━\u001b[0m\u001b[37m\u001b[0m \u001b[1m0s\u001b[0m 19ms/step - loss: 0.0201 - mse: 0.0188 - val_loss: 0.0256 - val_mse: 0.0244\n",
      "Epoch 68/100\n",
      "\u001b[1m10/10\u001b[0m \u001b[32m━━━━━━━━━━━━━━━━━━━━\u001b[0m\u001b[37m\u001b[0m \u001b[1m0s\u001b[0m 20ms/step - loss: 0.0191 - mse: 0.0179 - val_loss: 0.0162 - val_mse: 0.0150\n",
      "Epoch 69/100\n",
      "\u001b[1m10/10\u001b[0m \u001b[32m━━━━━━━━━━━━━━━━━━━━\u001b[0m\u001b[37m\u001b[0m \u001b[1m0s\u001b[0m 22ms/step - loss: 0.0177 - mse: 0.0165 - val_loss: 0.0230 - val_mse: 0.0218\n",
      "Epoch 70/100\n",
      "\u001b[1m10/10\u001b[0m \u001b[32m━━━━━━━━━━━━━━━━━━━━\u001b[0m\u001b[37m\u001b[0m \u001b[1m0s\u001b[0m 23ms/step - loss: 0.0187 - mse: 0.0175 - val_loss: 0.0192 - val_mse: 0.0179\n",
      "Epoch 71/100\n",
      "\u001b[1m10/10\u001b[0m \u001b[32m━━━━━━━━━━━━━━━━━━━━\u001b[0m\u001b[37m\u001b[0m \u001b[1m0s\u001b[0m 21ms/step - loss: 0.0147 - mse: 0.0135 - val_loss: 0.0220 - val_mse: 0.0208\n",
      "Epoch 72/100\n",
      "\u001b[1m10/10\u001b[0m \u001b[32m━━━━━━━━━━━━━━━━━━━━\u001b[0m\u001b[37m\u001b[0m \u001b[1m0s\u001b[0m 17ms/step - loss: 0.0165 - mse: 0.0153 - val_loss: 0.0226 - val_mse: 0.0214\n",
      "Epoch 73/100\n",
      "\u001b[1m10/10\u001b[0m \u001b[32m━━━━━━━━━━━━━━━━━━━━\u001b[0m\u001b[37m\u001b[0m \u001b[1m0s\u001b[0m 22ms/step - loss: 0.0171 - mse: 0.0159 - val_loss: 0.0226 - val_mse: 0.0214\n",
      "Epoch 74/100\n",
      "\u001b[1m10/10\u001b[0m \u001b[32m━━━━━━━━━━━━━━━━━━━━\u001b[0m\u001b[37m\u001b[0m \u001b[1m0s\u001b[0m 21ms/step - loss: 0.0235 - mse: 0.0223 - val_loss: 0.0164 - val_mse: 0.0153\n",
      "Epoch 75/100\n",
      "\u001b[1m10/10\u001b[0m \u001b[32m━━━━━━━━━━━━━━━━━━━━\u001b[0m\u001b[37m\u001b[0m \u001b[1m0s\u001b[0m 27ms/step - loss: 0.0198 - mse: 0.0187 - val_loss: 0.0311 - val_mse: 0.0299\n",
      "Epoch 76/100\n",
      "\u001b[1m10/10\u001b[0m \u001b[32m━━━━━━━━━━━━━━━━━━━━\u001b[0m\u001b[37m\u001b[0m \u001b[1m0s\u001b[0m 18ms/step - loss: 0.0272 - mse: 0.0260 - val_loss: 0.0321 - val_mse: 0.0309\n",
      "Epoch 77/100\n",
      "\u001b[1m10/10\u001b[0m \u001b[32m━━━━━━━━━━━━━━━━━━━━\u001b[0m\u001b[37m\u001b[0m \u001b[1m0s\u001b[0m 23ms/step - loss: 0.0227 - mse: 0.0215 - val_loss: 0.0223 - val_mse: 0.0211\n",
      "Epoch 78/100\n",
      "\u001b[1m10/10\u001b[0m \u001b[32m━━━━━━━━━━━━━━━━━━━━\u001b[0m\u001b[37m\u001b[0m \u001b[1m0s\u001b[0m 20ms/step - loss: 0.0208 - mse: 0.0196 - val_loss: 0.0316 - val_mse: 0.0305\n",
      "Epoch 79/100\n",
      "\u001b[1m10/10\u001b[0m \u001b[32m━━━━━━━━━━━━━━━━━━━━\u001b[0m\u001b[37m\u001b[0m \u001b[1m0s\u001b[0m 24ms/step - loss: 0.0275 - mse: 0.0263 - val_loss: 0.0200 - val_mse: 0.0188\n",
      "Epoch 80/100\n",
      "\u001b[1m10/10\u001b[0m \u001b[32m━━━━━━━━━━━━━━━━━━━━\u001b[0m\u001b[37m\u001b[0m \u001b[1m0s\u001b[0m 22ms/step - loss: 0.0404 - mse: 0.0392 - val_loss: 0.0335 - val_mse: 0.0323\n",
      "Epoch 81/100\n",
      "\u001b[1m10/10\u001b[0m \u001b[32m━━━━━━━━━━━━━━━━━━━━\u001b[0m\u001b[37m\u001b[0m \u001b[1m0s\u001b[0m 19ms/step - loss: 0.0439 - mse: 0.0426 - val_loss: 0.0364 - val_mse: 0.0351\n",
      "Epoch 82/100\n",
      "\u001b[1m10/10\u001b[0m \u001b[32m━━━━━━━━━━━━━━━━━━━━\u001b[0m\u001b[37m\u001b[0m \u001b[1m0s\u001b[0m 19ms/step - loss: 0.0364 - mse: 0.0351 - val_loss: 0.0402 - val_mse: 0.0388\n",
      "Epoch 83/100\n",
      "\u001b[1m10/10\u001b[0m \u001b[32m━━━━━━━━━━━━━━━━━━━━\u001b[0m\u001b[37m\u001b[0m \u001b[1m0s\u001b[0m 26ms/step - loss: 0.0390 - mse: 0.0377 - val_loss: 0.0371 - val_mse: 0.0357\n",
      "Epoch 84/100\n",
      "\u001b[1m10/10\u001b[0m \u001b[32m━━━━━━━━━━━━━━━━━━━━\u001b[0m\u001b[37m\u001b[0m \u001b[1m0s\u001b[0m 21ms/step - loss: 0.0279 - mse: 0.0265 - val_loss: 0.0269 - val_mse: 0.0255\n",
      "Epoch 85/100\n",
      "\u001b[1m10/10\u001b[0m \u001b[32m━━━━━━━━━━━━━━━━━━━━\u001b[0m\u001b[37m\u001b[0m \u001b[1m0s\u001b[0m 20ms/step - loss: 0.0222 - mse: 0.0209 - val_loss: 0.0191 - val_mse: 0.0177\n",
      "Epoch 86/100\n",
      "\u001b[1m10/10\u001b[0m \u001b[32m━━━━━━━━━━━━━━━━━━━━\u001b[0m\u001b[37m\u001b[0m \u001b[1m0s\u001b[0m 16ms/step - loss: 0.0176 - mse: 0.0163 - val_loss: 0.0140 - val_mse: 0.0126\n",
      "Epoch 87/100\n",
      "\u001b[1m10/10\u001b[0m \u001b[32m━━━━━━━━━━━━━━━━━━━━\u001b[0m\u001b[37m\u001b[0m \u001b[1m0s\u001b[0m 19ms/step - loss: 0.0197 - mse: 0.0184 - val_loss: 0.0195 - val_mse: 0.0182\n",
      "Epoch 88/100\n",
      "\u001b[1m10/10\u001b[0m \u001b[32m━━━━━━━━━━━━━━━━━━━━\u001b[0m\u001b[37m\u001b[0m \u001b[1m0s\u001b[0m 16ms/step - loss: 0.0217 - mse: 0.0204 - val_loss: 0.0227 - val_mse: 0.0215\n",
      "Epoch 89/100\n",
      "\u001b[1m10/10\u001b[0m \u001b[32m━━━━━━━━━━━━━━━━━━━━\u001b[0m\u001b[37m\u001b[0m \u001b[1m0s\u001b[0m 19ms/step - loss: 0.0219 - mse: 0.0207 - val_loss: 0.0163 - val_mse: 0.0151\n",
      "Epoch 90/100\n",
      "\u001b[1m10/10\u001b[0m \u001b[32m━━━━━━━━━━━━━━━━━━━━\u001b[0m\u001b[37m\u001b[0m \u001b[1m0s\u001b[0m 19ms/step - loss: 0.0194 - mse: 0.0182 - val_loss: 0.0194 - val_mse: 0.0181\n",
      "Epoch 91/100\n",
      "\u001b[1m10/10\u001b[0m \u001b[32m━━━━━━━━━━━━━━━━━━━━\u001b[0m\u001b[37m\u001b[0m \u001b[1m0s\u001b[0m 18ms/step - loss: 0.0155 - mse: 0.0143 - val_loss: 0.0151 - val_mse: 0.0139\n",
      "Epoch 92/100\n",
      "\u001b[1m10/10\u001b[0m \u001b[32m━━━━━━━━━━━━━━━━━━━━\u001b[0m\u001b[37m\u001b[0m \u001b[1m0s\u001b[0m 22ms/step - loss: 0.0198 - mse: 0.0186 - val_loss: 0.0172 - val_mse: 0.0160\n",
      "Epoch 93/100\n",
      "\u001b[1m10/10\u001b[0m \u001b[32m━━━━━━━━━━━━━━━━━━━━\u001b[0m\u001b[37m\u001b[0m \u001b[1m0s\u001b[0m 26ms/step - loss: 0.0169 - mse: 0.0157 - val_loss: 0.0164 - val_mse: 0.0153\n",
      "Epoch 94/100\n",
      "\u001b[1m10/10\u001b[0m \u001b[32m━━━━━━━━━━━━━━━━━━━━\u001b[0m\u001b[37m\u001b[0m \u001b[1m0s\u001b[0m 22ms/step - loss: 0.0172 - mse: 0.0160 - val_loss: 0.0162 - val_mse: 0.0151\n",
      "Epoch 95/100\n",
      "\u001b[1m10/10\u001b[0m \u001b[32m━━━━━━━━━━━━━━━━━━━━\u001b[0m\u001b[37m\u001b[0m \u001b[1m0s\u001b[0m 16ms/step - loss: 0.0192 - mse: 0.0180 - val_loss: 0.0202 - val_mse: 0.0191\n",
      "Epoch 96/100\n",
      "\u001b[1m10/10\u001b[0m \u001b[32m━━━━━━━━━━━━━━━━━━━━\u001b[0m\u001b[37m\u001b[0m \u001b[1m0s\u001b[0m 17ms/step - loss: 0.0172 - mse: 0.0161 - val_loss: 0.0157 - val_mse: 0.0145\n",
      "Epoch 97/100\n",
      "\u001b[1m10/10\u001b[0m \u001b[32m━━━━━━━━━━━━━━━━━━━━\u001b[0m\u001b[37m\u001b[0m \u001b[1m0s\u001b[0m 18ms/step - loss: 0.0149 - mse: 0.0137 - val_loss: 0.0161 - val_mse: 0.0149\n",
      "Epoch 98/100\n",
      "\u001b[1m10/10\u001b[0m \u001b[32m━━━━━━━━━━━━━━━━━━━━\u001b[0m\u001b[37m\u001b[0m \u001b[1m0s\u001b[0m 16ms/step - loss: 0.0135 - mse: 0.0124 - val_loss: 0.0199 - val_mse: 0.0188\n",
      "Epoch 99/100\n",
      "\u001b[1m10/10\u001b[0m \u001b[32m━━━━━━━━━━━━━━━━━━━━\u001b[0m\u001b[37m\u001b[0m \u001b[1m0s\u001b[0m 17ms/step - loss: 0.0167 - mse: 0.0156 - val_loss: 0.0170 - val_mse: 0.0159\n",
      "Epoch 100/100\n",
      "\u001b[1m10/10\u001b[0m \u001b[32m━━━━━━━━━━━━━━━━━━━━\u001b[0m\u001b[37m\u001b[0m \u001b[1m0s\u001b[0m 16ms/step - loss: 0.0117 - mse: 0.0105 - val_loss: 0.0149 - val_mse: 0.0138\n",
      "\u001b[1m3/3\u001b[0m \u001b[32m━━━━━━━━━━━━━━━━━━━━\u001b[0m\u001b[37m\u001b[0m \u001b[1m0s\u001b[0m 5ms/step - loss: 0.0144 - mse: 0.0131 \n",
      "Final MSE for CGPA: 0.012644040398299694\n"
     ]
    }
   ],
   "source": [
    "\n",
    "best_units_cgpa = best_individual_cgpa[0]\n",
    "best_activation_cgpa = best_individual_cgpa[1]\n",
    "best_dropout_cgpa = best_individual_cgpa[2]\n",
    "best_optimizer_cgpa = best_individual_cgpa[3]\n",
    "best_learning_rate_cgpa = best_individual_cgpa[4]\n",
    "\n",
    "final_cgpa_model = create_cgpa_model(best_units_cgpa, best_activation_cgpa, best_dropout_cgpa, best_optimizer_cgpa, best_learning_rate_cgpa)\n",
    "early_stopping = EarlyStopping(monitor='val_loss', patience=20, restore_best_weights=True)\n",
    "\n",
    "history_cgpa = final_cgpa_model.fit(\n",
    "    X_train_cgpa_reshaped, y_train_cgpa, \n",
    "    epochs=100, \n",
    "    validation_data=(X_test_cgpa_reshaped, y_test_cgpa),\n",
    "    callbacks=[early_stopping]\n",
    ")\n",
    "\n",
    "loss_cgpa, mse_cgpa = final_cgpa_model.evaluate(X_test_cgpa_reshaped, y_test_cgpa)\n",
    "print('Final MSE for CGPA:', mse_cgpa)"
   ]
  },
  {
   "cell_type": "markdown",
   "id": "bfc36681-52a6-4adf-bcb4-b21d5ab27c67",
   "metadata": {},
   "source": [
    "## Train the Placement model with the best hyperparameters"
   ]
  },
  {
   "cell_type": "code",
   "execution_count": 52,
   "id": "d2a9f2f4-6866-4073-8be6-68e7549a2439",
   "metadata": {},
   "outputs": [
    {
     "name": "stdout",
     "output_type": "stream",
     "text": [
      "Epoch 1/100\n"
     ]
    },
    {
     "name": "stderr",
     "output_type": "stream",
     "text": [
      "/home/bhikrant07/anaconda3/lib/python3.11/site-packages/keras/src/layers/rnn/rnn.py:204: UserWarning: Do not pass an `input_shape`/`input_dim` argument to a layer. When using Sequential models, prefer using an `Input(shape)` object as the first layer in the model instead.\n",
      "  super().__init__(**kwargs)\n"
     ]
    },
    {
     "name": "stdout",
     "output_type": "stream",
     "text": [
      "\u001b[1m10/10\u001b[0m \u001b[32m━━━━━━━━━━━━━━━━━━━━\u001b[0m\u001b[37m\u001b[0m \u001b[1m1s\u001b[0m 27ms/step - accuracy: 0.5254 - loss: 0.8703 - val_accuracy: 0.5541 - val_loss: 0.7061\n",
      "Epoch 2/100\n",
      "\u001b[1m10/10\u001b[0m \u001b[32m━━━━━━━━━━━━━━━━━━━━\u001b[0m\u001b[37m\u001b[0m \u001b[1m0s\u001b[0m 9ms/step - accuracy: 0.5436 - loss: 0.7179 - val_accuracy: 0.5405 - val_loss: 0.7007\n",
      "Epoch 3/100\n",
      "\u001b[1m10/10\u001b[0m \u001b[32m━━━━━━━━━━━━━━━━━━━━\u001b[0m\u001b[37m\u001b[0m \u001b[1m0s\u001b[0m 11ms/step - accuracy: 0.5790 - loss: 0.6857 - val_accuracy: 0.5676 - val_loss: 0.6961\n",
      "Epoch 4/100\n",
      "\u001b[1m10/10\u001b[0m \u001b[32m━━━━━━━━━━━━━━━━━━━━\u001b[0m\u001b[37m\u001b[0m \u001b[1m0s\u001b[0m 11ms/step - accuracy: 0.5976 - loss: 0.6766 - val_accuracy: 0.6081 - val_loss: 0.6938\n",
      "Epoch 5/100\n",
      "\u001b[1m10/10\u001b[0m \u001b[32m━━━━━━━━━━━━━━━━━━━━\u001b[0m\u001b[37m\u001b[0m \u001b[1m0s\u001b[0m 12ms/step - accuracy: 0.6006 - loss: 0.6752 - val_accuracy: 0.6351 - val_loss: 0.6918\n",
      "Epoch 6/100\n",
      "\u001b[1m10/10\u001b[0m \u001b[32m━━━━━━━━━━━━━━━━━━━━\u001b[0m\u001b[37m\u001b[0m \u001b[1m0s\u001b[0m 9ms/step - accuracy: 0.6050 - loss: 0.6611 - val_accuracy: 0.6216 - val_loss: 0.6860\n",
      "Epoch 7/100\n",
      "\u001b[1m10/10\u001b[0m \u001b[32m━━━━━━━━━━━━━━━━━━━━\u001b[0m\u001b[37m\u001b[0m \u001b[1m0s\u001b[0m 15ms/step - accuracy: 0.6133 - loss: 0.6519 - val_accuracy: 0.6486 - val_loss: 0.6789\n",
      "Epoch 8/100\n",
      "\u001b[1m10/10\u001b[0m \u001b[32m━━━━━━━━━━━━━━━━━━━━\u001b[0m\u001b[37m\u001b[0m \u001b[1m0s\u001b[0m 9ms/step - accuracy: 0.6215 - loss: 0.6539 - val_accuracy: 0.6351 - val_loss: 0.6785\n",
      "Epoch 9/100\n",
      "\u001b[1m10/10\u001b[0m \u001b[32m━━━━━━━━━━━━━━━━━━━━\u001b[0m\u001b[37m\u001b[0m \u001b[1m0s\u001b[0m 12ms/step - accuracy: 0.6576 - loss: 0.6363 - val_accuracy: 0.6081 - val_loss: 0.6770\n",
      "Epoch 10/100\n",
      "\u001b[1m10/10\u001b[0m \u001b[32m━━━━━━━━━━━━━━━━━━━━\u001b[0m\u001b[37m\u001b[0m \u001b[1m0s\u001b[0m 11ms/step - accuracy: 0.6257 - loss: 0.6542 - val_accuracy: 0.6081 - val_loss: 0.6774\n",
      "Epoch 11/100\n",
      "\u001b[1m10/10\u001b[0m \u001b[32m━━━━━━━━━━━━━━━━━━━━\u001b[0m\u001b[37m\u001b[0m \u001b[1m0s\u001b[0m 8ms/step - accuracy: 0.6736 - loss: 0.6131 - val_accuracy: 0.6351 - val_loss: 0.6631\n",
      "Epoch 12/100\n",
      "\u001b[1m10/10\u001b[0m \u001b[32m━━━━━━━━━━━━━━━━━━━━\u001b[0m\u001b[37m\u001b[0m \u001b[1m0s\u001b[0m 8ms/step - accuracy: 0.6963 - loss: 0.6183 - val_accuracy: 0.6216 - val_loss: 0.6664\n",
      "Epoch 13/100\n",
      "\u001b[1m10/10\u001b[0m \u001b[32m━━━━━━━━━━━━━━━━━━━━\u001b[0m\u001b[37m\u001b[0m \u001b[1m0s\u001b[0m 8ms/step - accuracy: 0.6374 - loss: 0.6083 - val_accuracy: 0.6757 - val_loss: 0.6595\n",
      "Epoch 14/100\n",
      "\u001b[1m10/10\u001b[0m \u001b[32m━━━━━━━━━━━━━━━━━━━━\u001b[0m\u001b[37m\u001b[0m \u001b[1m0s\u001b[0m 7ms/step - accuracy: 0.6919 - loss: 0.5896 - val_accuracy: 0.5946 - val_loss: 0.6524\n",
      "Epoch 15/100\n",
      "\u001b[1m10/10\u001b[0m \u001b[32m━━━━━━━━━━━━━━━━━━━━\u001b[0m\u001b[37m\u001b[0m \u001b[1m0s\u001b[0m 8ms/step - accuracy: 0.6849 - loss: 0.5955 - val_accuracy: 0.6486 - val_loss: 0.6494\n",
      "Epoch 16/100\n",
      "\u001b[1m10/10\u001b[0m \u001b[32m━━━━━━━━━━━━━━━━━━━━\u001b[0m\u001b[37m\u001b[0m \u001b[1m0s\u001b[0m 10ms/step - accuracy: 0.6496 - loss: 0.5800 - val_accuracy: 0.6622 - val_loss: 0.6447\n",
      "Epoch 17/100\n",
      "\u001b[1m10/10\u001b[0m \u001b[32m━━━━━━━━━━━━━━━━━━━━\u001b[0m\u001b[37m\u001b[0m \u001b[1m0s\u001b[0m 9ms/step - accuracy: 0.6651 - loss: 0.5788 - val_accuracy: 0.6892 - val_loss: 0.6458\n",
      "Epoch 18/100\n",
      "\u001b[1m10/10\u001b[0m \u001b[32m━━━━━━━━━━━━━━━━━━━━\u001b[0m\u001b[37m\u001b[0m \u001b[1m0s\u001b[0m 8ms/step - accuracy: 0.6793 - loss: 0.5651 - val_accuracy: 0.6486 - val_loss: 0.6313\n",
      "Epoch 19/100\n",
      "\u001b[1m10/10\u001b[0m \u001b[32m━━━━━━━━━━━━━━━━━━━━\u001b[0m\u001b[37m\u001b[0m \u001b[1m0s\u001b[0m 8ms/step - accuracy: 0.7072 - loss: 0.5389 - val_accuracy: 0.6216 - val_loss: 0.6469\n",
      "Epoch 20/100\n",
      "\u001b[1m10/10\u001b[0m \u001b[32m━━━━━━━━━━━━━━━━━━━━\u001b[0m\u001b[37m\u001b[0m \u001b[1m0s\u001b[0m 7ms/step - accuracy: 0.7017 - loss: 0.5377 - val_accuracy: 0.6622 - val_loss: 0.6269\n",
      "Epoch 21/100\n",
      "\u001b[1m10/10\u001b[0m \u001b[32m━━━━━━━━━━━━━━━━━━━━\u001b[0m\u001b[37m\u001b[0m \u001b[1m0s\u001b[0m 7ms/step - accuracy: 0.6939 - loss: 0.5500 - val_accuracy: 0.6486 - val_loss: 0.6381\n",
      "Epoch 22/100\n",
      "\u001b[1m10/10\u001b[0m \u001b[32m━━━━━━━━━━━━━━━━━━━━\u001b[0m\u001b[37m\u001b[0m \u001b[1m0s\u001b[0m 8ms/step - accuracy: 0.6728 - loss: 0.5699 - val_accuracy: 0.6486 - val_loss: 0.6371\n",
      "Epoch 23/100\n",
      "\u001b[1m10/10\u001b[0m \u001b[32m━━━━━━━━━━━━━━━━━━━━\u001b[0m\u001b[37m\u001b[0m \u001b[1m0s\u001b[0m 7ms/step - accuracy: 0.6752 - loss: 0.5700 - val_accuracy: 0.6486 - val_loss: 0.6244\n",
      "Epoch 24/100\n",
      "\u001b[1m10/10\u001b[0m \u001b[32m━━━━━━━━━━━━━━━━━━━━\u001b[0m\u001b[37m\u001b[0m \u001b[1m0s\u001b[0m 8ms/step - accuracy: 0.7307 - loss: 0.5356 - val_accuracy: 0.6622 - val_loss: 0.5876\n",
      "Epoch 25/100\n",
      "\u001b[1m10/10\u001b[0m \u001b[32m━━━━━━━━━━━━━━━━━━━━\u001b[0m\u001b[37m\u001b[0m \u001b[1m0s\u001b[0m 8ms/step - accuracy: 0.7023 - loss: 0.4997 - val_accuracy: 0.7027 - val_loss: 0.5646\n",
      "Epoch 26/100\n",
      "\u001b[1m10/10\u001b[0m \u001b[32m━━━━━━━━━━━━━━━━━━━━\u001b[0m\u001b[37m\u001b[0m \u001b[1m0s\u001b[0m 8ms/step - accuracy: 0.7498 - loss: 0.4685 - val_accuracy: 0.6622 - val_loss: 0.5768\n",
      "Epoch 27/100\n",
      "\u001b[1m10/10\u001b[0m \u001b[32m━━━━━━━━━━━━━━━━━━━━\u001b[0m\u001b[37m\u001b[0m \u001b[1m0s\u001b[0m 8ms/step - accuracy: 0.6788 - loss: 0.6046 - val_accuracy: 0.6216 - val_loss: 0.6466\n",
      "Epoch 28/100\n",
      "\u001b[1m10/10\u001b[0m \u001b[32m━━━━━━━━━━━━━━━━━━━━\u001b[0m\u001b[37m\u001b[0m \u001b[1m0s\u001b[0m 8ms/step - accuracy: 0.7401 - loss: 0.5748 - val_accuracy: 0.6216 - val_loss: 0.6247\n",
      "Epoch 29/100\n",
      "\u001b[1m10/10\u001b[0m \u001b[32m━━━━━━━━━━━━━━━━━━━━\u001b[0m\u001b[37m\u001b[0m \u001b[1m0s\u001b[0m 8ms/step - accuracy: 0.6908 - loss: 0.5351 - val_accuracy: 0.7162 - val_loss: 0.5776\n",
      "Epoch 30/100\n",
      "\u001b[1m10/10\u001b[0m \u001b[32m━━━━━━━━━━━━━━━━━━━━\u001b[0m\u001b[37m\u001b[0m \u001b[1m0s\u001b[0m 8ms/step - accuracy: 0.7613 - loss: 0.4976 - val_accuracy: 0.6757 - val_loss: 0.5833\n",
      "Epoch 31/100\n",
      "\u001b[1m10/10\u001b[0m \u001b[32m━━━━━━━━━━━━━━━━━━━━\u001b[0m\u001b[37m\u001b[0m \u001b[1m0s\u001b[0m 8ms/step - accuracy: 0.7443 - loss: 0.5252 - val_accuracy: 0.7568 - val_loss: 0.5650\n",
      "Epoch 32/100\n",
      "\u001b[1m10/10\u001b[0m \u001b[32m━━━━━━━━━━━━━━━━━━━━\u001b[0m\u001b[37m\u001b[0m \u001b[1m0s\u001b[0m 9ms/step - accuracy: 0.7225 - loss: 0.5219 - val_accuracy: 0.6892 - val_loss: 0.6083\n",
      "Epoch 33/100\n",
      "\u001b[1m10/10\u001b[0m \u001b[32m━━━━━━━━━━━━━━━━━━━━\u001b[0m\u001b[37m\u001b[0m \u001b[1m0s\u001b[0m 8ms/step - accuracy: 0.7519 - loss: 0.4700 - val_accuracy: 0.7162 - val_loss: 0.5701\n",
      "Epoch 34/100\n",
      "\u001b[1m10/10\u001b[0m \u001b[32m━━━━━━━━━━━━━━━━━━━━\u001b[0m\u001b[37m\u001b[0m \u001b[1m0s\u001b[0m 8ms/step - accuracy: 0.8220 - loss: 0.4004 - val_accuracy: 0.6622 - val_loss: 0.5428\n",
      "Epoch 35/100\n",
      "\u001b[1m10/10\u001b[0m \u001b[32m━━━━━━━━━━━━━━━━━━━━\u001b[0m\u001b[37m\u001b[0m \u001b[1m0s\u001b[0m 7ms/step - accuracy: 0.8155 - loss: 0.3857 - val_accuracy: 0.7432 - val_loss: 0.4830\n",
      "Epoch 36/100\n",
      "\u001b[1m10/10\u001b[0m \u001b[32m━━━━━━━━━━━━━━━━━━━━\u001b[0m\u001b[37m\u001b[0m \u001b[1m0s\u001b[0m 7ms/step - accuracy: 0.8684 - loss: 0.3369 - val_accuracy: 0.7568 - val_loss: 0.4636\n",
      "Epoch 37/100\n",
      "\u001b[1m10/10\u001b[0m \u001b[32m━━━━━━━━━━━━━━━━━━━━\u001b[0m\u001b[37m\u001b[0m \u001b[1m0s\u001b[0m 7ms/step - accuracy: 0.8718 - loss: 0.3069 - val_accuracy: 0.7838 - val_loss: 0.4930\n",
      "Epoch 38/100\n",
      "\u001b[1m10/10\u001b[0m \u001b[32m━━━━━━━━━━━━━━━━━━━━\u001b[0m\u001b[37m\u001b[0m \u001b[1m0s\u001b[0m 10ms/step - accuracy: 0.9248 - loss: 0.2572 - val_accuracy: 0.8243 - val_loss: 0.4483\n",
      "Epoch 39/100\n",
      "\u001b[1m10/10\u001b[0m \u001b[32m━━━━━━━━━━━━━━━━━━━━\u001b[0m\u001b[37m\u001b[0m \u001b[1m0s\u001b[0m 7ms/step - accuracy: 0.9335 - loss: 0.2309 - val_accuracy: 0.7973 - val_loss: 0.4431\n",
      "Epoch 40/100\n",
      "\u001b[1m10/10\u001b[0m \u001b[32m━━━━━━━━━━━━━━━━━━━━\u001b[0m\u001b[37m\u001b[0m \u001b[1m0s\u001b[0m 7ms/step - accuracy: 0.9228 - loss: 0.2677 - val_accuracy: 0.7297 - val_loss: 0.5535\n",
      "Epoch 41/100\n",
      "\u001b[1m10/10\u001b[0m \u001b[32m━━━━━━━━━━━━━━━━━━━━\u001b[0m\u001b[37m\u001b[0m \u001b[1m0s\u001b[0m 7ms/step - accuracy: 0.8662 - loss: 0.3249 - val_accuracy: 0.7162 - val_loss: 0.5858\n",
      "Epoch 42/100\n",
      "\u001b[1m10/10\u001b[0m \u001b[32m━━━━━━━━━━━━━━━━━━━━\u001b[0m\u001b[37m\u001b[0m \u001b[1m0s\u001b[0m 10ms/step - accuracy: 0.9213 - loss: 0.2697 - val_accuracy: 0.7568 - val_loss: 0.5743\n",
      "Epoch 43/100\n",
      "\u001b[1m10/10\u001b[0m \u001b[32m━━━━━━━━━━━━━━━━━━━━\u001b[0m\u001b[37m\u001b[0m \u001b[1m0s\u001b[0m 7ms/step - accuracy: 0.8237 - loss: 0.4868 - val_accuracy: 0.7162 - val_loss: 0.5806\n",
      "Epoch 44/100\n",
      "\u001b[1m10/10\u001b[0m \u001b[32m━━━━━━━━━━━━━━━━━━━━\u001b[0m\u001b[37m\u001b[0m \u001b[1m0s\u001b[0m 8ms/step - accuracy: 0.8787 - loss: 0.3226 - val_accuracy: 0.8243 - val_loss: 0.4874\n",
      "Epoch 45/100\n",
      "\u001b[1m10/10\u001b[0m \u001b[32m━━━━━━━━━━━━━━━━━━━━\u001b[0m\u001b[37m\u001b[0m \u001b[1m0s\u001b[0m 8ms/step - accuracy: 0.9139 - loss: 0.2730 - val_accuracy: 0.8514 - val_loss: 0.4301\n",
      "Epoch 46/100\n",
      "\u001b[1m10/10\u001b[0m \u001b[32m━━━━━━━━━━━━━━━━━━━━\u001b[0m\u001b[37m\u001b[0m \u001b[1m0s\u001b[0m 8ms/step - accuracy: 0.9418 - loss: 0.2180 - val_accuracy: 0.8243 - val_loss: 0.4347\n",
      "Epoch 47/100\n",
      "\u001b[1m10/10\u001b[0m \u001b[32m━━━━━━━━━━━━━━━━━━━━\u001b[0m\u001b[37m\u001b[0m \u001b[1m0s\u001b[0m 7ms/step - accuracy: 0.9328 - loss: 0.2019 - val_accuracy: 0.8784 - val_loss: 0.4302\n",
      "Epoch 48/100\n",
      "\u001b[1m10/10\u001b[0m \u001b[32m━━━━━━━━━━━━━━━━━━━━\u001b[0m\u001b[37m\u001b[0m \u001b[1m0s\u001b[0m 7ms/step - accuracy: 0.9532 - loss: 0.1830 - val_accuracy: 0.8649 - val_loss: 0.3835\n",
      "Epoch 49/100\n",
      "\u001b[1m10/10\u001b[0m \u001b[32m━━━━━━━━━━━━━━━━━━━━\u001b[0m\u001b[37m\u001b[0m \u001b[1m0s\u001b[0m 7ms/step - accuracy: 0.9565 - loss: 0.1644 - val_accuracy: 0.8649 - val_loss: 0.5042\n",
      "Epoch 50/100\n",
      "\u001b[1m10/10\u001b[0m \u001b[32m━━━━━━━━━━━━━━━━━━━━\u001b[0m\u001b[37m\u001b[0m \u001b[1m0s\u001b[0m 10ms/step - accuracy: 0.9639 - loss: 0.1545 - val_accuracy: 0.9054 - val_loss: 0.3917\n",
      "Epoch 51/100\n",
      "\u001b[1m10/10\u001b[0m \u001b[32m━━━━━━━━━━━━━━━━━━━━\u001b[0m\u001b[37m\u001b[0m \u001b[1m0s\u001b[0m 9ms/step - accuracy: 0.9548 - loss: 0.1386 - val_accuracy: 0.9054 - val_loss: 0.3126\n",
      "Epoch 52/100\n",
      "\u001b[1m10/10\u001b[0m \u001b[32m━━━━━━━━━━━━━━━━━━━━\u001b[0m\u001b[37m\u001b[0m \u001b[1m0s\u001b[0m 8ms/step - accuracy: 0.9756 - loss: 0.0983 - val_accuracy: 0.9324 - val_loss: 0.3114\n",
      "Epoch 53/100\n",
      "\u001b[1m10/10\u001b[0m \u001b[32m━━━━━━━━━━━━━━━━━━━━\u001b[0m\u001b[37m\u001b[0m \u001b[1m0s\u001b[0m 8ms/step - accuracy: 0.9839 - loss: 0.0772 - val_accuracy: 0.9189 - val_loss: 0.3695\n",
      "Epoch 54/100\n",
      "\u001b[1m10/10\u001b[0m \u001b[32m━━━━━━━━━━━━━━━━━━━━\u001b[0m\u001b[37m\u001b[0m \u001b[1m0s\u001b[0m 8ms/step - accuracy: 0.9842 - loss: 0.0775 - val_accuracy: 0.9054 - val_loss: 0.3428\n",
      "Epoch 55/100\n",
      "\u001b[1m10/10\u001b[0m \u001b[32m━━━━━━━━━━━━━━━━━━━━\u001b[0m\u001b[37m\u001b[0m \u001b[1m0s\u001b[0m 9ms/step - accuracy: 0.9830 - loss: 0.0926 - val_accuracy: 0.9054 - val_loss: 0.4011\n",
      "Epoch 56/100\n",
      "\u001b[1m10/10\u001b[0m \u001b[32m━━━━━━━━━━━━━━━━━━━━\u001b[0m\u001b[37m\u001b[0m \u001b[1m0s\u001b[0m 8ms/step - accuracy: 0.9563 - loss: 0.1716 - val_accuracy: 0.8378 - val_loss: 0.4058\n",
      "Epoch 57/100\n",
      "\u001b[1m10/10\u001b[0m \u001b[32m━━━━━━━━━━━━━━━━━━━━\u001b[0m\u001b[37m\u001b[0m \u001b[1m0s\u001b[0m 8ms/step - accuracy: 0.9654 - loss: 0.1377 - val_accuracy: 0.8649 - val_loss: 0.4809\n",
      "Epoch 58/100\n",
      "\u001b[1m10/10\u001b[0m \u001b[32m━━━━━━━━━━━━━━━━━━━━\u001b[0m\u001b[37m\u001b[0m \u001b[1m0s\u001b[0m 7ms/step - accuracy: 0.9679 - loss: 0.1145 - val_accuracy: 0.9324 - val_loss: 0.4138\n",
      "Epoch 59/100\n",
      "\u001b[1m10/10\u001b[0m \u001b[32m━━━━━━━━━━━━━━━━━━━━\u001b[0m\u001b[37m\u001b[0m \u001b[1m0s\u001b[0m 8ms/step - accuracy: 0.9701 - loss: 0.1377 - val_accuracy: 0.8108 - val_loss: 0.5939\n",
      "Epoch 60/100\n",
      "\u001b[1m10/10\u001b[0m \u001b[32m━━━━━━━━━━━━━━━━━━━━\u001b[0m\u001b[37m\u001b[0m \u001b[1m0s\u001b[0m 8ms/step - accuracy: 0.8815 - loss: 0.3664 - val_accuracy: 0.8108 - val_loss: 0.7275\n",
      "Epoch 61/100\n",
      "\u001b[1m10/10\u001b[0m \u001b[32m━━━━━━━━━━━━━━━━━━━━\u001b[0m\u001b[37m\u001b[0m \u001b[1m0s\u001b[0m 8ms/step - accuracy: 0.8550 - loss: 0.4001 - val_accuracy: 0.8243 - val_loss: 0.5252\n",
      "Epoch 62/100\n",
      "\u001b[1m10/10\u001b[0m \u001b[32m━━━━━━━━━━━━━━━━━━━━\u001b[0m\u001b[37m\u001b[0m \u001b[1m0s\u001b[0m 9ms/step - accuracy: 0.9299 - loss: 0.2140 - val_accuracy: 0.8108 - val_loss: 0.3695\n",
      "Epoch 63/100\n",
      "\u001b[1m10/10\u001b[0m \u001b[32m━━━━━━━━━━━━━━━━━━━━\u001b[0m\u001b[37m\u001b[0m \u001b[1m0s\u001b[0m 8ms/step - accuracy: 0.9364 - loss: 0.2236 - val_accuracy: 0.7973 - val_loss: 0.4741\n",
      "Epoch 64/100\n",
      "\u001b[1m10/10\u001b[0m \u001b[32m━━━━━━━━━━━━━━━━━━━━\u001b[0m\u001b[37m\u001b[0m \u001b[1m0s\u001b[0m 11ms/step - accuracy: 0.9426 - loss: 0.1791 - val_accuracy: 0.8649 - val_loss: 0.3807\n",
      "Epoch 65/100\n",
      "\u001b[1m10/10\u001b[0m \u001b[32m━━━━━━━━━━━━━━━━━━━━\u001b[0m\u001b[37m\u001b[0m \u001b[1m0s\u001b[0m 9ms/step - accuracy: 0.9493 - loss: 0.1579 - val_accuracy: 0.9054 - val_loss: 0.2867\n",
      "Epoch 66/100\n",
      "\u001b[1m10/10\u001b[0m \u001b[32m━━━━━━━━━━━━━━━━━━━━\u001b[0m\u001b[37m\u001b[0m \u001b[1m0s\u001b[0m 9ms/step - accuracy: 0.9777 - loss: 0.1090 - val_accuracy: 0.8919 - val_loss: 0.3235\n",
      "Epoch 67/100\n",
      "\u001b[1m10/10\u001b[0m \u001b[32m━━━━━━━━━━━━━━━━━━━━\u001b[0m\u001b[37m\u001b[0m \u001b[1m0s\u001b[0m 7ms/step - accuracy: 0.9795 - loss: 0.0886 - val_accuracy: 0.9054 - val_loss: 0.3405\n",
      "Epoch 68/100\n",
      "\u001b[1m10/10\u001b[0m \u001b[32m━━━━━━━━━━━━━━━━━━━━\u001b[0m\u001b[37m\u001b[0m \u001b[1m0s\u001b[0m 9ms/step - accuracy: 0.9956 - loss: 0.0671 - val_accuracy: 0.9054 - val_loss: 0.3222\n",
      "Epoch 69/100\n",
      "\u001b[1m10/10\u001b[0m \u001b[32m━━━━━━━━━━━━━━━━━━━━\u001b[0m\u001b[37m\u001b[0m \u001b[1m0s\u001b[0m 9ms/step - accuracy: 0.9931 - loss: 0.0590 - val_accuracy: 0.9054 - val_loss: 0.3163\n",
      "Epoch 70/100\n",
      "\u001b[1m10/10\u001b[0m \u001b[32m━━━━━━━━━━━━━━━━━━━━\u001b[0m\u001b[37m\u001b[0m \u001b[1m0s\u001b[0m 8ms/step - accuracy: 0.9938 - loss: 0.0550 - val_accuracy: 0.9054 - val_loss: 0.3303\n",
      "Epoch 71/100\n",
      "\u001b[1m10/10\u001b[0m \u001b[32m━━━━━━━━━━━━━━━━━━━━\u001b[0m\u001b[37m\u001b[0m \u001b[1m0s\u001b[0m 8ms/step - accuracy: 0.9938 - loss: 0.0546 - val_accuracy: 0.9054 - val_loss: 0.3386\n",
      "Epoch 72/100\n",
      "\u001b[1m10/10\u001b[0m \u001b[32m━━━━━━━━━━━━━━━━━━━━\u001b[0m\u001b[37m\u001b[0m \u001b[1m0s\u001b[0m 7ms/step - accuracy: 0.9938 - loss: 0.0543 - val_accuracy: 0.9189 - val_loss: 0.3652\n",
      "\u001b[1m3/3\u001b[0m \u001b[32m━━━━━━━━━━━━━━━━━━━━\u001b[0m\u001b[37m\u001b[0m \u001b[1m0s\u001b[0m 2ms/step - accuracy: 0.9272 - loss: 0.3467 \n",
      "Final Accuracy for Placement: 0.9324324131011963\n"
     ]
    }
   ],
   "source": [
    "best_units_placement = best_individual_placement[0]\n",
    "best_activation_placement = best_individual_placement[1]\n",
    "best_dropout_placement = best_individual_placement[2]\n",
    "best_optimizer_placement = best_individual_placement[3]\n",
    "best_learning_rate_placement = best_individual_placement[4]\n",
    "\n",
    "final_placement_model = create_placement_model(best_units_placement, best_activation_placement, best_dropout_placement, best_optimizer_placement, best_learning_rate_placement)\n",
    "early_stopping = EarlyStopping(monitor='val_accuracy', patience=20, restore_best_weights=True)\n",
    "\n",
    "history_placement = final_placement_model.fit(\n",
    "    X_train_placement_reshaped, y_train_placement, \n",
    "    epochs=100, \n",
    "    validation_data=(X_test_placement_reshaped, y_test_placement),\n",
    "    callbacks=[early_stopping]\n",
    ")\n",
    "loss_placement, acc_placement = final_placement_model.evaluate(X_test_placement_reshaped, y_test_placement)\n",
    "print('Final Accuracy for Placement:', acc_placement)"
   ]
  },
  {
   "cell_type": "markdown",
   "id": "bc78cef0-1414-4e8a-a6c4-7abd378a2ec1",
   "metadata": {},
   "source": [
    "## Plotting ROC Curve for Placement Model"
   ]
  },
  {
   "cell_type": "code",
   "execution_count": 53,
   "id": "fd7bbb71-33b5-40cb-ad46-7d631ff04f69",
   "metadata": {},
   "outputs": [
    {
     "name": "stdout",
     "output_type": "stream",
     "text": [
      "\u001b[1m3/3\u001b[0m \u001b[32m━━━━━━━━━━━━━━━━━━━━\u001b[0m\u001b[37m\u001b[0m \u001b[1m0s\u001b[0m 56ms/step\n"
     ]
    },
    {
     "data": {
      "image/png": "[encoded data removed]",
      "text/plain": [
       "<Figure size 640x480 with 1 Axes>"
      ]
     },
     "metadata": {},
     "output_type": "display_data"
    },
    {
     "name": "stdout",
     "output_type": "stream",
     "text": [
      "Optimal Threshold for Placement Prediction: 0.6065\n"
     ]
    }
   ],
   "source": [
    "import numpy as np\n",
    "from sklearn.metrics import roc_curve, auc\n",
    "import matplotlib.pyplot as plt\n",
    "\n",
    "# Make predictions on the test set\n",
    "y_pred_prob_placement = final_placement_model.predict(X_test_placement_reshaped).ravel()\n",
    "\n",
    "# Calculate ROC curve and AUC\n",
    "fpr, tpr, thresholds = roc_curve(y_test_placement, y_pred_prob_placement)\n",
    "roc_auc = auc(fpr, tpr)\n",
    "\n",
    "# Plot the ROC curve\n",
    "plt.figure()\n",
    "plt.plot(fpr, tpr, color='darkorange', lw=2, label=f'ROC curve (area = {roc_auc:.2f})')\n",
    "plt.plot([0, 1], [0, 1], color='navy', lw=2, linestyle='--')\n",
    "plt.xlim([0.0, 1.0])\n",
    "plt.ylim([0.0, 1.05])\n",
    "plt.xlabel('False Positive Rate')\n",
    "plt.ylabel('True Positive Rate')\n",
    "plt.title('Receiver Operating Characteristic (ROC) Curve for Placement Model')\n",
    "plt.legend(loc='lower right')\n",
    "plt.show()\n",
    "\n",
    "# Find optimal threshold using Youden's J statistic\n",
    "optimal_idx = np.argmax(tpr - fpr)\n",
    "optimal_threshold = thresholds[optimal_idx]\n",
    "\n",
    "print(f'Optimal Threshold for Placement Prediction: {optimal_threshold:.4f}')"
   ]
  },
  {
   "cell_type": "code",
   "execution_count": 54,
   "id": "57dbfd38-3bc5-480e-9457-0fa95a2a98e5",
   "metadata": {},
   "outputs": [
    {
     "data": {
      "text/html": [
       "<pre style=\"white-space:pre;overflow-x:auto;line-height:normal;font-family:Menlo,'DejaVu Sans Mono',consolas,'Courier New',monospace\"><span style=\"font-weight: bold\">Model: \"sequential_141\"</span>\n",
       "</pre>\n"
      ],
      "text/plain": [
       "\u001b[1mModel: \"sequential_141\"\u001b[0m\n"
      ]
     },
     "metadata": {},
     "output_type": "display_data"
    },
    {
     "data": {
      "text/html": [
       "<pre style=\"white-space:pre;overflow-x:auto;line-height:normal;font-family:Menlo,'DejaVu Sans Mono',consolas,'Courier New',monospace\">┏━━━━━━━━━━━━━━━━━━━━━━━━━━━━━━━━━┳━━━━━━━━━━━━━━━━━━━━━━━━┳━━━━━━━━━━━━━━━┓\n",
       "┃<span style=\"font-weight: bold\"> Layer (type)                    </span>┃<span style=\"font-weight: bold\"> Output Shape           </span>┃<span style=\"font-weight: bold\">       Param # </span>┃\n",
       "┡━━━━━━━━━━━━━━━━━━━━━━━━━━━━━━━━━╇━━━━━━━━━━━━━━━━━━━━━━━━╇━━━━━━━━━━━━━━━┩\n",
       "│ lstm_141 (<span style=\"color: #0087ff; text-decoration-color: #0087ff\">LSTM</span>)                 │ (<span style=\"color: #00d7ff; text-decoration-color: #00d7ff\">None</span>, <span style=\"color: #00af00; text-decoration-color: #00af00\">200</span>)            │       <span style=\"color: #00af00; text-decoration-color: #00af00\">161,600</span> │\n",
       "├─────────────────────────────────┼────────────────────────┼───────────────┤\n",
       "│ dropout_141 (<span style=\"color: #0087ff; text-decoration-color: #0087ff\">Dropout</span>)           │ (<span style=\"color: #00d7ff; text-decoration-color: #00d7ff\">None</span>, <span style=\"color: #00af00; text-decoration-color: #00af00\">200</span>)            │             <span style=\"color: #00af00; text-decoration-color: #00af00\">0</span> │\n",
       "├─────────────────────────────────┼────────────────────────┼───────────────┤\n",
       "│ dense_141 (<span style=\"color: #0087ff; text-decoration-color: #0087ff\">Dense</span>)               │ (<span style=\"color: #00d7ff; text-decoration-color: #00d7ff\">None</span>, <span style=\"color: #00af00; text-decoration-color: #00af00\">1</span>)              │           <span style=\"color: #00af00; text-decoration-color: #00af00\">201</span> │\n",
       "└─────────────────────────────────┴────────────────────────┴───────────────┘\n",
       "</pre>\n"
      ],
      "text/plain": [
       "┏━━━━━━━━━━━━━━━━━━━━━━━━━━━━━━━━━┳━━━━━━━━━━━━━━━━━━━━━━━━┳━━━━━━━━━━━━━━━┓\n",
       "┃\u001b[1m \u001b[0m\u001b[1mLayer (type)                   \u001b[0m\u001b[1m \u001b[0m┃\u001b[1m \u001b[0m\u001b[1mOutput Shape          \u001b[0m\u001b[1m \u001b[0m┃\u001b[1m \u001b[0m\u001b[1m      Param #\u001b[0m\u001b[1m \u001b[0m┃\n",
       "┡━━━━━━━━━━━━━━━━━━━━━━━━━━━━━━━━━╇━━━━━━━━━━━━━━━━━━━━━━━━╇━━━━━━━━━━━━━━━┩\n",
       "│ lstm_141 (\u001b[38;5;33mLSTM\u001b[0m)                 │ (\u001b[38;5;45mNone\u001b[0m, \u001b[38;5;34m200\u001b[0m)            │       \u001b[38;5;34m161,600\u001b[0m │\n",
       "├─────────────────────────────────┼────────────────────────┼───────────────┤\n",
       "│ dropout_141 (\u001b[38;5;33mDropout\u001b[0m)           │ (\u001b[38;5;45mNone\u001b[0m, \u001b[38;5;34m200\u001b[0m)            │             \u001b[38;5;34m0\u001b[0m │\n",
       "├─────────────────────────────────┼────────────────────────┼───────────────┤\n",
       "│ dense_141 (\u001b[38;5;33mDense\u001b[0m)               │ (\u001b[38;5;45mNone\u001b[0m, \u001b[38;5;34m1\u001b[0m)              │           \u001b[38;5;34m201\u001b[0m │\n",
       "└─────────────────────────────────┴────────────────────────┴───────────────┘\n"
      ]
     },
     "metadata": {},
     "output_type": "display_data"
    },
    {
     "data": {
      "text/html": [
       "<pre style=\"white-space:pre;overflow-x:auto;line-height:normal;font-family:Menlo,'DejaVu Sans Mono',consolas,'Courier New',monospace\"><span style=\"font-weight: bold\"> Total params: </span><span style=\"color: #00af00; text-decoration-color: #00af00\">485,405</span> (1.85 MB)\n",
       "</pre>\n"
      ],
      "text/plain": [
       "\u001b[1m Total params: \u001b[0m\u001b[38;5;34m485,405\u001b[0m (1.85 MB)\n"
      ]
     },
     "metadata": {},
     "output_type": "display_data"
    },
    {
     "data": {
      "text/html": [
       "<pre style=\"white-space:pre;overflow-x:auto;line-height:normal;font-family:Menlo,'DejaVu Sans Mono',consolas,'Courier New',monospace\"><span style=\"font-weight: bold\"> Trainable params: </span><span style=\"color: #00af00; text-decoration-color: #00af00\">161,801</span> (632.04 KB)\n",
       "</pre>\n"
      ],
      "text/plain": [
       "\u001b[1m Trainable params: \u001b[0m\u001b[38;5;34m161,801\u001b[0m (632.04 KB)\n"
      ]
     },
     "metadata": {},
     "output_type": "display_data"
    },
    {
     "data": {
      "text/html": [
       "<pre style=\"white-space:pre;overflow-x:auto;line-height:normal;font-family:Menlo,'DejaVu Sans Mono',consolas,'Courier New',monospace\"><span style=\"font-weight: bold\"> Non-trainable params: </span><span style=\"color: #00af00; text-decoration-color: #00af00\">0</span> (0.00 B)\n",
       "</pre>\n"
      ],
      "text/plain": [
       "\u001b[1m Non-trainable params: \u001b[0m\u001b[38;5;34m0\u001b[0m (0.00 B)\n"
      ]
     },
     "metadata": {},
     "output_type": "display_data"
    },
    {
     "data": {
      "text/html": [
       "<pre style=\"white-space:pre;overflow-x:auto;line-height:normal;font-family:Menlo,'DejaVu Sans Mono',consolas,'Courier New',monospace\"><span style=\"font-weight: bold\"> Optimizer params: </span><span style=\"color: #00af00; text-decoration-color: #00af00\">323,604</span> (1.23 MB)\n",
       "</pre>\n"
      ],
      "text/plain": [
       "\u001b[1m Optimizer params: \u001b[0m\u001b[38;5;34m323,604\u001b[0m (1.23 MB)\n"
      ]
     },
     "metadata": {},
     "output_type": "display_data"
    },
    {
     "data": {
      "text/html": [
       "<pre style=\"white-space:pre;overflow-x:auto;line-height:normal;font-family:Menlo,'DejaVu Sans Mono',consolas,'Courier New',monospace\"><span style=\"font-weight: bold\">Model: \"sequential_144\"</span>\n",
       "</pre>\n"
      ],
      "text/plain": [
       "\u001b[1mModel: \"sequential_144\"\u001b[0m\n"
      ]
     },
     "metadata": {},
     "output_type": "display_data"
    },
    {
     "data": {
      "text/html": [
       "<pre style=\"white-space:pre;overflow-x:auto;line-height:normal;font-family:Menlo,'DejaVu Sans Mono',consolas,'Courier New',monospace\">┏━━━━━━━━━━━━━━━━━━━━━━━━━━━━━━━━━┳━━━━━━━━━━━━━━━━━━━━━━━━┳━━━━━━━━━━━━━━━┓\n",
       "┃<span style=\"font-weight: bold\"> Layer (type)                    </span>┃<span style=\"font-weight: bold\"> Output Shape           </span>┃<span style=\"font-weight: bold\">       Param # </span>┃\n",
       "┡━━━━━━━━━━━━━━━━━━━━━━━━━━━━━━━━━╇━━━━━━━━━━━━━━━━━━━━━━━━╇━━━━━━━━━━━━━━━┩\n",
       "│ bidirectional_84                │ (<span style=\"color: #00d7ff; text-decoration-color: #00d7ff\">None</span>, <span style=\"color: #00af00; text-decoration-color: #00af00\">174</span>)            │        <span style=\"color: #00af00; text-decoration-color: #00af00\">61,944</span> │\n",
       "│ (<span style=\"color: #0087ff; text-decoration-color: #0087ff\">Bidirectional</span>)                 │                        │               │\n",
       "├─────────────────────────────────┼────────────────────────┼───────────────┤\n",
       "│ dropout_144 (<span style=\"color: #0087ff; text-decoration-color: #0087ff\">Dropout</span>)           │ (<span style=\"color: #00d7ff; text-decoration-color: #00d7ff\">None</span>, <span style=\"color: #00af00; text-decoration-color: #00af00\">174</span>)            │             <span style=\"color: #00af00; text-decoration-color: #00af00\">0</span> │\n",
       "├─────────────────────────────────┼────────────────────────┼───────────────┤\n",
       "│ batch_normalization_84          │ (<span style=\"color: #00d7ff; text-decoration-color: #00d7ff\">None</span>, <span style=\"color: #00af00; text-decoration-color: #00af00\">174</span>)            │           <span style=\"color: #00af00; text-decoration-color: #00af00\">696</span> │\n",
       "│ (<span style=\"color: #0087ff; text-decoration-color: #0087ff\">BatchNormalization</span>)            │                        │               │\n",
       "├─────────────────────────────────┼────────────────────────┼───────────────┤\n",
       "│ dense_144 (<span style=\"color: #0087ff; text-decoration-color: #0087ff\">Dense</span>)               │ (<span style=\"color: #00d7ff; text-decoration-color: #00d7ff\">None</span>, <span style=\"color: #00af00; text-decoration-color: #00af00\">1</span>)              │           <span style=\"color: #00af00; text-decoration-color: #00af00\">175</span> │\n",
       "└─────────────────────────────────┴────────────────────────┴───────────────┘\n",
       "</pre>\n"
      ],
      "text/plain": [
       "┏━━━━━━━━━━━━━━━━━━━━━━━━━━━━━━━━━┳━━━━━━━━━━━━━━━━━━━━━━━━┳━━━━━━━━━━━━━━━┓\n",
       "┃\u001b[1m \u001b[0m\u001b[1mLayer (type)                   \u001b[0m\u001b[1m \u001b[0m┃\u001b[1m \u001b[0m\u001b[1mOutput Shape          \u001b[0m\u001b[1m \u001b[0m┃\u001b[1m \u001b[0m\u001b[1m      Param #\u001b[0m\u001b[1m \u001b[0m┃\n",
       "┡━━━━━━━━━━━━━━━━━━━━━━━━━━━━━━━━━╇━━━━━━━━━━━━━━━━━━━━━━━━╇━━━━━━━━━━━━━━━┩\n",
       "│ bidirectional_84                │ (\u001b[38;5;45mNone\u001b[0m, \u001b[38;5;34m174\u001b[0m)            │        \u001b[38;5;34m61,944\u001b[0m │\n",
       "│ (\u001b[38;5;33mBidirectional\u001b[0m)                 │                        │               │\n",
       "├─────────────────────────────────┼────────────────────────┼───────────────┤\n",
       "│ dropout_144 (\u001b[38;5;33mDropout\u001b[0m)           │ (\u001b[38;5;45mNone\u001b[0m, \u001b[38;5;34m174\u001b[0m)            │             \u001b[38;5;34m0\u001b[0m │\n",
       "├─────────────────────────────────┼────────────────────────┼───────────────┤\n",
       "│ batch_normalization_84          │ (\u001b[38;5;45mNone\u001b[0m, \u001b[38;5;34m174\u001b[0m)            │           \u001b[38;5;34m696\u001b[0m │\n",
       "│ (\u001b[38;5;33mBatchNormalization\u001b[0m)            │                        │               │\n",
       "├─────────────────────────────────┼────────────────────────┼───────────────┤\n",
       "│ dense_144 (\u001b[38;5;33mDense\u001b[0m)               │ (\u001b[38;5;45mNone\u001b[0m, \u001b[38;5;34m1\u001b[0m)              │           \u001b[38;5;34m175\u001b[0m │\n",
       "└─────────────────────────────────┴────────────────────────┴───────────────┘\n"
      ]
     },
     "metadata": {},
     "output_type": "display_data"
    },
    {
     "data": {
      "text/html": [
       "<pre style=\"white-space:pre;overflow-x:auto;line-height:normal;font-family:Menlo,'DejaVu Sans Mono',consolas,'Courier New',monospace\"><span style=\"font-weight: bold\"> Total params: </span><span style=\"color: #00af00; text-decoration-color: #00af00\">187,751</span> (733.41 KB)\n",
       "</pre>\n"
      ],
      "text/plain": [
       "\u001b[1m Total params: \u001b[0m\u001b[38;5;34m187,751\u001b[0m (733.41 KB)\n"
      ]
     },
     "metadata": {},
     "output_type": "display_data"
    },
    {
     "data": {
      "text/html": [
       "<pre style=\"white-space:pre;overflow-x:auto;line-height:normal;font-family:Menlo,'DejaVu Sans Mono',consolas,'Courier New',monospace\"><span style=\"font-weight: bold\"> Trainable params: </span><span style=\"color: #00af00; text-decoration-color: #00af00\">62,467</span> (244.01 KB)\n",
       "</pre>\n"
      ],
      "text/plain": [
       "\u001b[1m Trainable params: \u001b[0m\u001b[38;5;34m62,467\u001b[0m (244.01 KB)\n"
      ]
     },
     "metadata": {},
     "output_type": "display_data"
    },
    {
     "data": {
      "text/html": [
       "<pre style=\"white-space:pre;overflow-x:auto;line-height:normal;font-family:Menlo,'DejaVu Sans Mono',consolas,'Courier New',monospace\"><span style=\"font-weight: bold\"> Non-trainable params: </span><span style=\"color: #00af00; text-decoration-color: #00af00\">348</span> (1.36 KB)\n",
       "</pre>\n"
      ],
      "text/plain": [
       "\u001b[1m Non-trainable params: \u001b[0m\u001b[38;5;34m348\u001b[0m (1.36 KB)\n"
      ]
     },
     "metadata": {},
     "output_type": "display_data"
    },
    {
     "data": {
      "text/html": [
       "<pre style=\"white-space:pre;overflow-x:auto;line-height:normal;font-family:Menlo,'DejaVu Sans Mono',consolas,'Courier New',monospace\"><span style=\"font-weight: bold\"> Optimizer params: </span><span style=\"color: #00af00; text-decoration-color: #00af00\">124,936</span> (488.04 KB)\n",
       "</pre>\n"
      ],
      "text/plain": [
       "\u001b[1m Optimizer params: \u001b[0m\u001b[38;5;34m124,936\u001b[0m (488.04 KB)\n"
      ]
     },
     "metadata": {},
     "output_type": "display_data"
    }
   ],
   "source": [
    "final_cgpa_model.summary()\n",
    "final_placement_model.summary()"
   ]
  },
  {
   "cell_type": "markdown",
   "id": "7228feab-53f1-4f0e-b175-7283132e44e7",
   "metadata": {},
   "source": [
    "## Plot training loss vs validation loss for CGPA model"
   ]
  },
  {
   "cell_type": "code",
   "execution_count": 50,
   "id": "a805c5b2-7a70-4b8f-8d7a-ccd8e3bba41e",
   "metadata": {},
   "outputs": [
    {
     "data": {
      "image/png": "[encoded data removed]",
      "text/plain": [
       "<Figure size 1200x600 with 1 Axes>"
      ]
     },
     "metadata": {},
     "output_type": "display_data"
    }
   ],
   "source": [
    "plt.figure(figsize=(12, 6))\n",
    "plt.plot(history_cgpa.history['loss'], label='Training Loss')\n",
    "plt.plot(history_cgpa.history['val_loss'], label='Validation Loss')\n",
    "plt.xlabel('Epochs')\n",
    "plt.ylabel('Loss')\n",
    "plt.title('Training Loss vs Validation Loss for CGPA Model')\n",
    "plt.legend()\n",
    "plt.show()"
   ]
  },
  {
   "cell_type": "markdown",
   "id": "44dd3134-18a9-4264-9003-36804475bf2a",
   "metadata": {},
   "source": [
    "## Plot training loss vs validation loss for Placement model"
   ]
  },
  {
   "cell_type": "code",
   "execution_count": 51,
   "id": "fc8b5442-1849-42d0-b345-d9ec658acf75",
   "metadata": {},
   "outputs": [
    {
     "data": {
      "image/png": "[encoded data removed]",
      "text/plain": [
       "<Figure size 1200x600 with 1 Axes>"
      ]
     },
     "metadata": {},
     "output_type": "display_data"
    }
   ],
   "source": [
    "plt.figure(figsize=(12, 6))\n",
    "plt.plot(history_placement.history['loss'], label='Training Loss')\n",
    "plt.plot(history_placement.history['val_loss'], label='Validation Loss')\n",
    "plt.xlabel('Epochs')\n",
    "plt.ylabel('Loss')\n",
    "plt.title('Training Loss vs Validation Loss for Placement Model')\n",
    "plt.legend()\n",
    "plt.show()"
   ]
  },
  {
   "cell_type": "markdown",
   "id": "f2f9842d-e8d2-4f64-a03c-27e321ef5526",
   "metadata": {},
   "source": [
    "## Function for prediction"
   ]
  },
  {
   "cell_type": "code",
   "execution_count": 48,
   "id": "468112b9-57d7-4a4a-86b6-a0c8d4c07d43",
   "metadata": {},
   "outputs": [],
   "source": [
    "def predict_student_cgpa(student_index):\n",
    "    student_data_a = X_cgpa.iloc[student_index]\n",
    "    cgpa_input = np.array(student_data_a).reshape((1, len(student_data_a), 1))\n",
    "    predicted_cgpa = final_cgpa_model.predict(cgpa_input)\n",
    "    print('Predicted CGPA:', predicted_cgpa[0][0])\n",
    "\n",
    "    # Inverse transform to get the predicted CGPA on the original scale\n",
    "    y_cgpa = data['CGPA after 8th semester']\n",
    "    y_train_cgpa = np.array(y_cgpa.values)\n",
    "    scaler = StandardScaler()\n",
    "    y_train_cgpa_scaled = scaler.fit_transform(y_train_cgpa.reshape(-1, 1)) \n",
    "    predicted_cgpa_original = scaler.inverse_transform(predicted_cgpa) \n",
    "    print('Predicted CGPA (original scale):', predicted_cgpa_original[0][0])\n",
    "\n",
    "def predict_student_placement(student_index, threshold=optimal_threshold):\n",
    "    student_data_b = X_placement.iloc[student_index]\n",
    "    placement_input = np.array(student_data_b).reshape((1, len(student_data_b), 1))\n",
    "    predicted_placement_prob = final_placement_model.predict(placement_input)\n",
    "    predicted_placement = int(predicted_placement_prob >= threshold)\n",
    "    print('Predicted Placement:', 'Yes' if predicted_placement == 1 else 'No')"
   ]
  },
  {
   "cell_type": "code",
   "execution_count": 49,
   "id": "7a38c0f8-76bc-4912-b9f5-905f58c653fa",
   "metadata": {},
   "outputs": [
    {
     "name": "stdout",
     "output_type": "stream",
     "text": [
      "\u001b[1m1/1\u001b[0m \u001b[32m━━━━━━━━━━━━━━━━━━━━\u001b[0m\u001b[37m\u001b[0m \u001b[1m0s\u001b[0m 12ms/step\n",
      "Predicted CGPA: -0.62029207\n",
      "Predicted CGPA (original scale): 6.42751\n",
      "\u001b[1m1/1\u001b[0m \u001b[32m━━━━━━━━━━━━━━━━━━━━\u001b[0m\u001b[37m\u001b[0m \u001b[1m0s\u001b[0m 11ms/step\n",
      "Predicted Placement: Yes\n"
     ]
    },
    {
     "name": "stderr",
     "output_type": "stream",
     "text": [
      "/tmp/ipykernel_29745/3806690968.py:19: DeprecationWarning: Conversion of an array with ndim > 0 to a scalar is deprecated, and will error in future. Ensure you extract a single element from your array before performing this operation. (Deprecated NumPy 1.25.)\n",
      "  predicted_placement = int(predicted_placement_prob >= threshold)\n"
     ]
    }
   ],
   "source": [
    "# Test predictions for a student with index 0\n",
    "predict_student_cgpa(0)\n",
    "predict_student_placement(0)"
   ]
  },
  {
   "cell_type": "code",
   "execution_count": 45,
   "id": "95a8572c-9617-477e-b1e9-e66d850324a9",
   "metadata": {},
   "outputs": [
    {
     "name": "stdout",
     "output_type": "stream",
     "text": [
      "\u001b[1m1/1\u001b[0m \u001b[32m━━━━━━━━━━━━━━━━━━━━\u001b[0m\u001b[37m\u001b[0m \u001b[1m0s\u001b[0m 10ms/step\n",
      "Predicted CGPA: 1.3231412\n",
      "Predicted CGPA (original scale): 8.211971\n",
      "\u001b[1m1/1\u001b[0m \u001b[32m━━━━━━━━━━━━━━━━━━━━\u001b[0m\u001b[37m\u001b[0m \u001b[1m0s\u001b[0m 10ms/step\n",
      "Predicted Placement: No\n"
     ]
    },
    {
     "name": "stderr",
     "output_type": "stream",
     "text": [
      "/tmp/ipykernel_29745/1528616677.py:19: DeprecationWarning: Conversion of an array with ndim > 0 to a scalar is deprecated, and will error in future. Ensure you extract a single element from your array before performing this operation. (Deprecated NumPy 1.25.)\n",
      "  predicted_placement = int(predicted_placement_prob >= threshold)\n"
     ]
    }
   ],
   "source": [
    "#test 1\n",
    "predict_student_cgpa(7)\n",
    "predict_student_placement(7)"
   ]
  },
  {
   "cell_type": "code",
   "execution_count": 46,
   "id": "04e26792-d9cc-4294-ad04-cd37fa9595f3",
   "metadata": {},
   "outputs": [
    {
     "name": "stdout",
     "output_type": "stream",
     "text": [
      "\u001b[1m1/1\u001b[0m \u001b[32m━━━━━━━━━━━━━━━━━━━━\u001b[0m\u001b[37m\u001b[0m \u001b[1m0s\u001b[0m 11ms/step\n",
      "Predicted CGPA: 0.19203423\n",
      "Predicted CGPA (original scale): 7.173388\n",
      "\u001b[1m1/1\u001b[0m \u001b[32m━━━━━━━━━━━━━━━━━━━━\u001b[0m\u001b[37m\u001b[0m \u001b[1m0s\u001b[0m 9ms/step\n",
      "Predicted Placement: Yes\n"
     ]
    },
    {
     "name": "stderr",
     "output_type": "stream",
     "text": [
      "/tmp/ipykernel_29745/1528616677.py:19: DeprecationWarning: Conversion of an array with ndim > 0 to a scalar is deprecated, and will error in future. Ensure you extract a single element from your array before performing this operation. (Deprecated NumPy 1.25.)\n",
      "  predicted_placement = int(predicted_placement_prob >= threshold)\n"
     ]
    }
   ],
   "source": [
    "predict_student_cgpa(2)\n",
    "predict_student_placement(2)"
   ]
  },
  {
   "cell_type": "code",
   "execution_count": 47,
   "id": "2255c0d5-f78f-4dd6-8d70-99db699052ff",
   "metadata": {},
   "outputs": [
    {
     "name": "stdout",
     "output_type": "stream",
     "text": [
      "\u001b[1m1/1\u001b[0m \u001b[32m━━━━━━━━━━━━━━━━━━━━\u001b[0m\u001b[37m\u001b[0m \u001b[1m0s\u001b[0m 10ms/step\n",
      "Predicted CGPA: -0.62029207\n",
      "Predicted CGPA (original scale): 6.42751\n",
      "\u001b[1m1/1\u001b[0m \u001b[32m━━━━━━━━━━━━━━━━━━━━\u001b[0m\u001b[37m\u001b[0m \u001b[1m0s\u001b[0m 10ms/step\n",
      "Predicted Placement: Yes\n"
     ]
    },
    {
     "name": "stderr",
     "output_type": "stream",
     "text": [
      "/tmp/ipykernel_29745/1528616677.py:19: DeprecationWarning: Conversion of an array with ndim > 0 to a scalar is deprecated, and will error in future. Ensure you extract a single element from your array before performing this operation. (Deprecated NumPy 1.25.)\n",
      "  predicted_placement = int(predicted_placement_prob >= threshold)\n"
     ]
    }
   ],
   "source": [
    "predict_student_cgpa(0)\n",
    "predict_student_placement(0)"
   ]
  }
 ],
 "metadata": {
  "kernelspec": {
   "display_name": "Python 3 (ipykernel)",
   "language": "python",
   "name": "python3"
  },
  "language_info": {
   "codemirror_mode": {
    "name": "ipython",
    "version": 3
   },
   "file_extension": ".py",
   "mimetype": "text/x-python",
   "name": "python",
   "nbconvert_exporter": "python",
   "pygments_lexer": "ipython3",
   "version": "3.11.7"
  }
 },
 "nbformat": 4,
 "nbformat_minor": 5
}
